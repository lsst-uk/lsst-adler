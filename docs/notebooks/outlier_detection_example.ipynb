{
 "cells": [
  {
   "cell_type": "markdown",
   "id": "5b6823e7",
   "metadata": {},
   "source": [
    "# Adler outlier detection\n",
    "This notebook demonstrates some of the functions provide by Adler to assist with simple outlier detection"
   ]
  },
  {
   "cell_type": "code",
   "execution_count": null,
   "id": "f88d62a9",
   "metadata": {},
   "outputs": [],
   "source": [
    "from adler.objectdata.AdlerPlanetoid import AdlerPlanetoid\n",
    "from adler.science.PhaseCurve import PhaseCurve\n",
    "from adler.objectdata.AdlerData import AdlerData\n",
    "import adler.utilities.science_utilities as utils\n",
    "\n",
    "import numpy as np\n",
    "import pandas as pd\n",
    "import matplotlib.pyplot as plt\n",
    "import matplotlib.gridspec as gridspec\n",
    "import astropy.units as u"
   ]
  },
  {
   "cell_type": "code",
   "execution_count": null,
   "id": "86e657fe",
   "metadata": {},
   "outputs": [],
   "source": [
    "# ssObjectId of object to analyse\n",
    "ssoid = \"8268570668335894776\"\n",
    "\n",
    "# load object from local database\n",
    "fname = \"../../notebooks/gen_test_data/adler_demo_testing_database.db\"\n",
    "planetoid = AdlerPlanetoid.construct_from_SQL(ssoid, sql_filename=fname)\n",
    "\n",
    "# retrieve observations in the r filter\n",
    "obs_r = planetoid.observations_in_filter(\"r\")"
   ]
  },
  {
   "cell_type": "code",
   "execution_count": null,
   "id": "f4131a10",
   "metadata": {},
   "outputs": [],
   "source": [
    "# define the phase curve model using the SSObject data\n",
    "\n",
    "sso_r = planetoid.SSObject_in_filter(\"r\")\n",
    "r_H = sso_r.H\n",
    "r_G12 = sso_r.G12\n",
    "\n",
    "pc = PhaseCurve(H=r_H * u.mag, phase_parameter_1=r_G12, model_name=\"HG12_Pen16\")"
   ]
  },
  {
   "cell_type": "code",
   "execution_count": null,
   "id": "0f625b5a",
   "metadata": {},
   "outputs": [],
   "source": [
    "# calculate data minus model residuals\n",
    "res = obs_r.reduced_mag - pc.ReducedMag(obs_r.phaseAngle * u.degree).value"
   ]
  },
  {
   "cell_type": "code",
   "execution_count": null,
   "id": "81e04bad",
   "metadata": {},
   "outputs": [],
   "source": [
    "res"
   ]
  },
  {
   "cell_type": "code",
   "execution_count": null,
   "id": "f573cce4",
   "metadata": {},
   "outputs": [],
   "source": [
    "# plot the observations with the SSObject phase curve\n",
    "x_plot = \"phaseAngle\"\n",
    "y_plot = \"reduced_mag\"\n",
    "\n",
    "x = getattr(obs_r, x_plot)\n",
    "y = getattr(obs_r, y_plot)\n",
    "yerr = obs_r.magErr\n",
    "\n",
    "fig = plt.figure()\n",
    "gs = gridspec.GridSpec(1, 1)\n",
    "ax1 = plt.subplot(gs[0, 0])\n",
    "\n",
    "ax1.errorbar(x, y, yerr, fmt=\"o\")\n",
    "\n",
    "# plot the phase curve model\n",
    "alpha = np.linspace(0, np.amax(obs_r.phaseAngle)) * u.deg\n",
    "red_mag = pc.ReducedMag(alpha)\n",
    "\n",
    "# legend label for the phase curve model\n",
    "pc_label = []\n",
    "for x in pc.model_function.param_names:\n",
    "    pc_label.append(\"{}={:.2f}\".format(x, getattr(pc.model_function, x).value))\n",
    "pc_label = \", \".join(pc_label)\n",
    "\n",
    "ax1.plot(alpha.value, red_mag.value, c=\"k\", label=pc_label)\n",
    "\n",
    "ax1.invert_yaxis()\n",
    "ax1.set_xlabel(x_plot)\n",
    "ax1.set_ylabel(y_plot)\n",
    "ax1.legend()\n",
    "\n",
    "plt.show()"
   ]
  },
  {
   "cell_type": "code",
   "execution_count": null,
   "id": "aee95371",
   "metadata": {},
   "outputs": [],
   "source": [
    "# plot the data - model residuals\n",
    "x_plot = \"phaseAngle\"\n",
    "\n",
    "x = getattr(obs_r, x_plot)\n",
    "yerr = obs_r.magErr\n",
    "\n",
    "fig = plt.figure()\n",
    "gs = gridspec.GridSpec(1, 1)\n",
    "ax1 = plt.subplot(gs[0, 0])\n",
    "\n",
    "ax1.errorbar(x, res, yerr, fmt=\"o\")\n",
    "\n",
    "ax1.axhline(0, c=\"k\")\n",
    "\n",
    "# indicate the standard deviations of the residuals\n",
    "res_std = np.std(res)\n",
    "for i in range(1, 4):\n",
    "    ax1.axhline(res_std * i, ls=\":\", c=\"C{}\".format(i), label=\"{} sigma\".format(i))\n",
    "    ax1.axhline(-res_std * i, ls=\":\", c=\"C{}\".format(i))\n",
    "\n",
    "ax1.invert_yaxis()\n",
    "ax1.set_xlabel(x_plot)\n",
    "ax1.set_ylabel(\"data - model\")\n",
    "ax1.legend()\n",
    "\n",
    "plt.show()"
   ]
  },
  {
   "cell_type": "markdown",
   "id": "4318568a",
   "metadata": {},
   "source": [
    "**Return a list of flags for outlying objects.**\n",
    "\n",
    "The Adler `utils.sigma_clip` function is a wrapper for `astropy.stats.sigma_clip`. We do this in order to return just the clip mask, and also to make it easier to call a \"zero\" central function."
   ]
  },
  {
   "cell_type": "code",
   "execution_count": null,
   "id": "16c712ff",
   "metadata": {},
   "outputs": [],
   "source": [
    "# astropy sigma_clip normally uses the median as the central function\n",
    "utils.sigma_clip(res, cenfunc=\"median\", maxiters=1)"
   ]
  },
  {
   "cell_type": "code",
   "execution_count": null,
   "id": "8983c9dd",
   "metadata": {},
   "outputs": [],
   "source": [
    "# assuming that the model is the ground truth, we use zero as the centroid for the residuals\n",
    "utils.sigma_clip(res, cenfunc=utils.zero_func, maxiters=1)"
   ]
  },
  {
   "cell_type": "code",
   "execution_count": null,
   "id": "15bdb74e",
   "metadata": {},
   "outputs": [],
   "source": [
    "# use the standard deviation of the residuals to identify outliers\n",
    "utils.outlier_std(res, res, std_cut=3.0)"
   ]
  },
  {
   "cell_type": "code",
   "execution_count": null,
   "id": "50276ce5",
   "metadata": {},
   "outputs": [],
   "source": [
    "# use a simple threshold value for residuals to find outliers\n",
    "utils.outlier_diff(res, diff_cut=1.0)"
   ]
  },
  {
   "cell_type": "code",
   "execution_count": null,
   "id": "64e2f5bc",
   "metadata": {},
   "outputs": [],
   "source": [
    "# consider the residual compared to the uncertainty of the measurement\n",
    "std_err = 5\n",
    "utils.outlier_sigma_diff(res, yerr, std_err)"
   ]
  },
  {
   "cell_type": "code",
   "execution_count": null,
   "id": "3f8cc586",
   "metadata": {},
   "outputs": [],
   "source": [
    "# plot the data - model residuals\n",
    "x_plot = \"phaseAngle\"\n",
    "\n",
    "x = getattr(obs_r, x_plot)\n",
    "yerr = obs_r.magErr\n",
    "\n",
    "fig = plt.figure()\n",
    "gs = gridspec.GridSpec(1, 1)\n",
    "ax1 = plt.subplot(gs[0, 0])\n",
    "\n",
    "ax1.errorbar(x, res, yerr, fmt=\"o\")\n",
    "\n",
    "ax1.axhline(0, c=\"k\")\n",
    "\n",
    "# indicate the standard deviations of the residuals\n",
    "res_std = np.std(res)\n",
    "for i in range(1, 4):\n",
    "    ax1.axhline(res_std * i, ls=\":\", c=\"C{}\".format(i), label=\"{} sigma\".format(i))\n",
    "    ax1.axhline(-res_std * i, ls=\":\", c=\"C{}\".format(i))\n",
    "\n",
    "mask = utils.outlier_sigma_diff(res, yerr, std_err)\n",
    "ax1.scatter(x[mask], res[mask], edgecolor=\"r\", facecolor=\"none\", marker=\"o\", zorder=3)\n",
    "\n",
    "ax1.invert_yaxis()\n",
    "ax1.set_xlabel(x_plot)\n",
    "ax1.set_ylabel(\"data - model\")\n",
    "ax1.legend()\n",
    "\n",
    "plt.show()"
   ]
  },
  {
   "cell_type": "markdown",
   "id": "e66bfbee",
   "metadata": {},
   "source": [
    "NB that for phase curve models, residuals can be much larger than the photometric uncertainty!"
   ]
  },
  {
   "cell_type": "code",
   "execution_count": null,
   "id": "bcccc758",
   "metadata": {},
   "outputs": [],
   "source": []
  }
 ],
 "metadata": {
  "kernelspec": {
   "display_name": "Python 3 (ipykernel)",
   "language": "python",
   "name": "python3"
  },
  "language_info": {
   "codemirror_mode": {
    "name": "ipython",
    "version": 3
   },
   "file_extension": ".py",
   "mimetype": "text/x-python",
   "name": "python",
   "nbconvert_exporter": "python",
   "pygments_lexer": "ipython3",
   "version": "3.9.19"
  }
 },
 "nbformat": 4,
 "nbformat_minor": 5
}
