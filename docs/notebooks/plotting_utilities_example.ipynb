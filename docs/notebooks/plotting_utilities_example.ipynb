{
 "cells": [
  {
   "cell_type": "markdown",
   "id": "d1c2637e",
   "metadata": {},
   "source": [
    "# Adler plotting utilities\n",
    "For ease of use Adler provides helper functions which can be used to make common solar system object plots, such as light curves and phase curves."
   ]
  },
  {
   "cell_type": "code",
   "execution_count": null,
   "id": "9f5f4b7d",
   "metadata": {},
   "outputs": [],
   "source": [
    "from adler.dataclasses.AdlerPlanetoid import AdlerPlanetoid\n",
    "from adler.science.PhaseCurve import PhaseCurve\n",
    "from adler.utilities.plotting_utilities import plot_errorbar\n",
    "\n",
    "import numpy as np\n",
    "import matplotlib.pyplot as plt\n",
    "import matplotlib.gridspec as gridspec\n",
    "import astropy.units as u"
   ]
  },
  {
   "cell_type": "code",
   "execution_count": null,
   "id": "28113970",
   "metadata": {},
   "outputs": [],
   "source": [
    "# retrieve the object data\n",
    "ssoid = \"8268570668335894776\"\n",
    "fname = \"../../notebooks/gen_test_data/adler_demo_testing_database.db\"\n",
    "planetoid = AdlerPlanetoid.construct_from_SQL(ssoid, sql_filename=fname)"
   ]
  },
  {
   "cell_type": "code",
   "execution_count": null,
   "id": "f27e1dec",
   "metadata": {},
   "outputs": [],
   "source": [
    "# use the adler plotting function to create a phase curve from the planetoid object\n",
    "fig = plot_errorbar(planetoid, filt_list=[\"r\"])"
   ]
  },
  {
   "cell_type": "code",
   "execution_count": null,
   "id": "fd41e5bf",
   "metadata": {},
   "outputs": [],
   "source": [
    "# with matplotlib we can access axes properties and update them after the fact\n",
    "\n",
    "# ax1.__dict__"
   ]
  },
  {
   "cell_type": "code",
   "execution_count": null,
   "id": "72ec3def",
   "metadata": {},
   "outputs": [],
   "source": [
    "# access the axes object to update attributes\n",
    "ax1 = fig.axes[0]\n",
    "ax1.set_xlabel(\"phaseAngle (degrees)\")"
   ]
  },
  {
   "cell_type": "code",
   "execution_count": null,
   "id": "3b751ba2",
   "metadata": {},
   "outputs": [],
   "source": [
    "# replot the figure\n",
    "fig"
   ]
  },
  {
   "cell_type": "code",
   "execution_count": null,
   "id": "2ee0ae9e",
   "metadata": {},
   "outputs": [],
   "source": [
    "# fit a phase curve model to the data\n",
    "\n",
    "filt = \"r\"\n",
    "sso = planetoid.SSObject_in_filter(filt)\n",
    "obs = planetoid.observations_in_filter(filt)\n",
    "\n",
    "H = sso.H\n",
    "G12 = sso.G12\n",
    "\n",
    "pc = PhaseCurve(H=H * u.mag, phase_parameter_1=G12, model_name=\"HG12_Pen16\")\n",
    "alpha = np.linspace(0, np.amax(obs.phaseAngle)) * u.deg\n",
    "red_mag = pc.ReducedMag(alpha)"
   ]
  },
  {
   "cell_type": "code",
   "execution_count": null,
   "id": "c8c4608d",
   "metadata": {},
   "outputs": [],
   "source": [
    "# add this phase curve to the figure\n",
    "ax1.plot(alpha.value, pc.ReducedMag(alpha).value, label=\"{} {}\".format(filt, pc.model_name))\n",
    "ax1.legend()  # udpate the figure legend"
   ]
  },
  {
   "cell_type": "code",
   "execution_count": null,
   "id": "ab0df0b1",
   "metadata": {},
   "outputs": [],
   "source": [
    "fig"
   ]
  },
  {
   "cell_type": "code",
   "execution_count": null,
   "id": "6cae1b45",
   "metadata": {},
   "outputs": [],
   "source": [
    "# we can also pass the fig object to the plotting function again to add more data\n",
    "fig2 = plot_errorbar(planetoid, fig=fig, filt_list=[\"g\", \"i\"], label_list=[\"g\", \"i\"])\n",
    "\n",
    "# update the legend\n",
    "ax1 = fig2.axes[0]\n",
    "ax1.legend()"
   ]
  },
  {
   "cell_type": "code",
   "execution_count": null,
   "id": "3d92c46d",
   "metadata": {},
   "outputs": [],
   "source": [
    "fig2"
   ]
  },
  {
   "cell_type": "code",
   "execution_count": null,
   "id": "f5a183bb",
   "metadata": {},
   "outputs": [],
   "source": [
    "# inspect the different items that have been plotted"
   ]
  },
  {
   "cell_type": "code",
   "execution_count": null,
   "id": "f356cbf7",
   "metadata": {},
   "outputs": [],
   "source": [
    "ax1._children"
   ]
  },
  {
   "cell_type": "code",
   "execution_count": null,
   "id": "4bf0f661",
   "metadata": {},
   "outputs": [],
   "source": [
    "ax1.containers"
   ]
  },
  {
   "cell_type": "code",
   "execution_count": null,
   "id": "c847b938",
   "metadata": {},
   "outputs": [],
   "source": [
    "# add the legend label to the r filter data\n",
    "ax1.containers[0]._label = \"r\"\n",
    "ax1.legend()"
   ]
  },
  {
   "cell_type": "code",
   "execution_count": null,
   "id": "07982dd4",
   "metadata": {},
   "outputs": [],
   "source": [
    "fig2"
   ]
  },
  {
   "cell_type": "code",
   "execution_count": null,
   "id": "a56d5711",
   "metadata": {},
   "outputs": [],
   "source": [
    "# we use `plot_errorbar` to save the figure, without adding anything extra to the figure\n",
    "fig3 = plot_errorbar(planetoid, fig=fig2, filename=\"phase_curve_{}.png\".format(ssoid))"
   ]
  },
  {
   "cell_type": "code",
   "execution_count": null,
   "id": "1c89f107",
   "metadata": {},
   "outputs": [],
   "source": [
    "fig3"
   ]
  },
  {
   "cell_type": "code",
   "execution_count": null,
   "id": "b76a0b12",
   "metadata": {},
   "outputs": [],
   "source": []
  }
 ],
 "metadata": {
  "kernelspec": {
   "display_name": "Python 3 (ipykernel)",
   "language": "python",
   "name": "python3"
  },
  "language_info": {
   "codemirror_mode": {
    "name": "ipython",
    "version": 3
   },
   "file_extension": ".py",
   "mimetype": "text/x-python",
   "name": "python",
   "nbconvert_exporter": "python",
   "pygments_lexer": "ipython3",
   "version": "3.9.19"
  }
 },
 "nbformat": 4,
 "nbformat_minor": 5
}
