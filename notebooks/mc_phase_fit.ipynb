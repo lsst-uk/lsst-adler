{
 "cells": [
  {
   "cell_type": "code",
   "execution_count": null,
   "id": "3f265be4",
   "metadata": {},
   "outputs": [],
   "source": [
    "%matplotlib notebook"
   ]
  },
  {
   "cell_type": "code",
   "execution_count": null,
   "id": "e4eb75bb",
   "metadata": {},
   "outputs": [],
   "source": [
    "%matplotlib inline"
   ]
  },
  {
   "cell_type": "code",
   "execution_count": null,
   "id": "e2154f51",
   "metadata": {},
   "outputs": [],
   "source": [
    "from adler.dataclasses.AdlerPlanetoid import AdlerPlanetoid\n",
    "from adler.dataclasses.AdlerData import AdlerData\n",
    "from adler.science.PhaseCurve import PhaseCurve\n",
    "from adler.utilities.plotting_utilities import plot_errorbar\n",
    "\n",
    "# from adler.utilities.science_utilities import get_df_obs_filt\n",
    "\n",
    "import numpy as np\n",
    "import pandas as pd\n",
    "import matplotlib.pyplot as plt\n",
    "import matplotlib.gridspec as gridspec\n",
    "import astropy.units as u\n",
    "from astropy.modeling.fitting import SLSQPLSQFitter"
   ]
  },
  {
   "cell_type": "code",
   "execution_count": null,
   "id": "fdd1f0f2",
   "metadata": {},
   "outputs": [],
   "source": [
    "# ssObjectId of object to analyse\n",
    "# ssoid = \"8268570668335894776\" # NEO\n",
    "ssoid = \"6098332225018\"  # good MBA test object"
   ]
  },
  {
   "cell_type": "code",
   "execution_count": null,
   "id": "472609a0",
   "metadata": {},
   "outputs": [],
   "source": [
    "# fname = \"../tests/data/testing_database.db\"\n",
    "fname = \"/Users/jrobinson/lsst-adler/notebooks/gen_test_data/adler_demo_testing_database.db\"\n",
    "planetoid = AdlerPlanetoid.construct_from_SQL(ssoid, sql_filename=fname)"
   ]
  },
  {
   "cell_type": "code",
   "execution_count": null,
   "id": "e2ae7c0b",
   "metadata": {},
   "outputs": [],
   "source": [
    "resample = 100"
   ]
  },
  {
   "cell_type": "code",
   "execution_count": null,
   "id": "5b0c1412",
   "metadata": {},
   "outputs": [],
   "source": [
    "fig = plt.figure()\n",
    "gs = gridspec.GridSpec(1, 1)\n",
    "ax1 = plt.subplot(gs[0, 0])\n",
    "\n",
    "adler_cols = AdlerData(ssoid, planetoid.filter_list)\n",
    "\n",
    "for filt in [\"g\", \"r\"]:\n",
    "    # get observations and define a phase curve model to fit\n",
    "\n",
    "    sso = planetoid.SSObject_in_filter(filt)\n",
    "    obs = planetoid.observations_in_filter(filt)\n",
    "\n",
    "    H = sso.H\n",
    "    G12 = sso.G12\n",
    "    pc = PhaseCurve(H=H * u.mag, phase_parameter_1=G12, model_name=\"HG12_Pen16\")\n",
    "\n",
    "    alpha = (np.array(getattr(obs, \"phaseAngle\")) * u.deg,)\n",
    "    mag_err = np.array(getattr(obs, \"magErr\")) * u.mag\n",
    "    red_mag = np.array(getattr(obs, \"reduced_mag\")) * u.mag\n",
    "\n",
    "    pc_fit = pc.FitModel(\n",
    "        np.array(getattr(obs, \"phaseAngle\")) * u.deg,\n",
    "        red_mag,\n",
    "        mag_err,\n",
    "    )\n",
    "    pc = pc.InitModelSbpy(pc_fit)\n",
    "\n",
    "    #     adler_cols.populate_phase_parameters(filt,**pc.ReturnModelDict())\n",
    "\n",
    "    # add this phase curve to the figure\n",
    "    fig = plot_errorbar(planetoid, filt_list=[filt], fig=fig)\n",
    "    ax1 = fig.axes[0]\n",
    "    alpha_fit = np.linspace(0, np.amax(obs.phaseAngle)) * u.deg\n",
    "    ax1.plot(\n",
    "        alpha_fit.value,\n",
    "        pc.ReducedMag(alpha_fit).value,\n",
    "        label=\"{}: H={:.2f}, G12={:.2f}\".format(filt, pc.H, pc.phase_parameter_1),\n",
    "    )\n",
    "    ax1.legend()\n",
    "\n",
    "    mc_models = []\n",
    "    for i in range(resample):\n",
    "        _red_mag = np.random.normal(loc=np.array(red_mag), scale=np.array(mag_err)) * u.mag\n",
    "        ax1.scatter(alpha[0].value, _red_mag.value, s=1, c=\"k\", alpha=0.1, zorder=5)\n",
    "\n",
    "        _pc_fit = pc.FitModel(\n",
    "            np.array(getattr(obs, \"phaseAngle\")) * u.deg,\n",
    "            _red_mag,\n",
    "        )\n",
    "        _pc = pc.InitModelSbpy(_pc_fit)\n",
    "        ax1.plot(\n",
    "            alpha_fit.value,\n",
    "            _pc.ReducedMag(alpha_fit).value,\n",
    "            c=\"k\",\n",
    "            alpha=0.1,\n",
    "            zorder=0,\n",
    "            label=\"{}: H={:.2f}, G12={:.2f}\".format(filt, _pc.H, _pc.phase_parameter_1),\n",
    "        )\n",
    "\n",
    "        mc_models.append(_pc)\n",
    "\n",
    "    break\n",
    "\n",
    "ax1.invert_yaxis()\n",
    "\n",
    "plt.show()"
   ]
  },
  {
   "cell_type": "code",
   "execution_count": null,
   "id": "919f0e21",
   "metadata": {},
   "outputs": [],
   "source": [
    "mag_err"
   ]
  },
  {
   "cell_type": "code",
   "execution_count": null,
   "id": "ea39b9b0",
   "metadata": {},
   "outputs": [],
   "source": [
    "mc_models[0].H, mc_models[0].phase_parameter_1"
   ]
  },
  {
   "cell_type": "code",
   "execution_count": null,
   "id": "dc96d3d6",
   "metadata": {},
   "outputs": [],
   "source": [
    "abs_mag = np.array([x.H.value for x in mc_models])\n",
    "phase_param = np.array([x.phase_parameter_1 for x in mc_models])"
   ]
  },
  {
   "cell_type": "code",
   "execution_count": null,
   "id": "040867f2",
   "metadata": {},
   "outputs": [],
   "source": [
    "phase_param"
   ]
  },
  {
   "cell_type": "code",
   "execution_count": null,
   "id": "0ecaff7e",
   "metadata": {},
   "outputs": [],
   "source": [
    "fig = plt.figure()\n",
    "gs = gridspec.GridSpec(1, 2)\n",
    "ax1 = plt.subplot(gs[0, 0])\n",
    "ax2 = plt.subplot(gs[0, 1])\n",
    "\n",
    "for x, ax, ax_lab in zip([abs_mag, phase_param], [ax1, ax2], [\"H\", \"phase_parameter_1\"]):\n",
    "    ax.hist(x, bins=\"auto\", histtype=\"step\")\n",
    "    mean = np.mean(x)\n",
    "    std = np.std(x)\n",
    "    print(mean, std)\n",
    "    ax.axvline(mean)\n",
    "    ax.axvspan(mean - std, mean + std, alpha=0.3)\n",
    "    ax.set_xlabel(ax_lab)\n",
    "\n",
    "for x, x_err, ax in zip([\"H\", \"phase_parameter_1\"], [\"H_err\", \"phase_parameter_1_err\"], [ax1, ax2]):\n",
    "    x = getattr(pc, x)\n",
    "    x_err = getattr(pc, x_err)\n",
    "\n",
    "    if hasattr(x, \"unit\"):\n",
    "        x = x.value\n",
    "\n",
    "    ax.axvline(x, color=\"k\")\n",
    "    ax.axvspan(x - x_err, x + x_err, alpha=0.3, color=\"k\")\n",
    "\n",
    "plt.show()"
   ]
  },
  {
   "cell_type": "code",
   "execution_count": null,
   "id": "219b3e89",
   "metadata": {},
   "outputs": [],
   "source": [
    "pc.__dict__"
   ]
  },
  {
   "cell_type": "code",
   "execution_count": null,
   "id": "aa2bb33a",
   "metadata": {},
   "outputs": [],
   "source": [
    "_pc.__dict__"
   ]
  },
  {
   "cell_type": "code",
   "execution_count": null,
   "id": "c6a0cbce",
   "metadata": {},
   "outputs": [],
   "source": []
  }
 ],
 "metadata": {
  "kernelspec": {
   "display_name": "adler-dev",
   "language": "python",
   "name": "adler-dev"
  },
  "language_info": {
   "codemirror_mode": {
    "name": "ipython",
    "version": 3
   },
   "file_extension": ".py",
   "mimetype": "text/x-python",
   "name": "python",
   "nbconvert_exporter": "python",
   "pygments_lexer": "ipython3",
   "version": "3.10.14"
  }
 },
 "nbformat": 4,
 "nbformat_minor": 5
}
