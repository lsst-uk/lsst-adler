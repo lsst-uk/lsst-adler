{
 "cells": [
  {
   "cell_type": "markdown",
   "id": "f76142ea",
   "metadata": {},
   "source": [
    "# Adler wedge photometry\n",
    "Adler provides a method of running wedge photometry on the cutout image of a detection.\n",
    "To do this we invoke the `astscript-radial-profile` command line tool from [gnuastro](https://www.gnu.org/software/gnuastro/manual/html_node/Invoking-astscript_002dradial_002dprofile.html), using python subprocess.\n",
    "`astscript-radial-profile` calculates various statistics (sum, mean, median, std) for pixels in radial bins (starting from the centre of the image to the edge) in a given azimuthal range.\n",
    "We therefore call `astscript-radial-profile` for a number of azimuthal bins covering the full 0-360 degree range, and use this to determine the flux contained in each \"wedge\"."
   ]
  },
  {
   "cell_type": "code",
   "execution_count": null,
   "id": "b691d481",
   "metadata": {},
   "outputs": [],
   "source": [
    "import numpy as np\n",
    "import pandas as pd\n",
    "import matplotlib.pyplot as plt\n",
    "import matplotlib.gridspec as gridspec\n",
    "from astropy.io import fits\n",
    "from astropy import visualization as aviz\n",
    "from photutils.aperture import CircularAnnulus, CircularAperture\n",
    "\n",
    "from adler.science.WedgePhot import WedgePhot"
   ]
  },
  {
   "cell_type": "code",
   "execution_count": null,
   "id": "38327458",
   "metadata": {},
   "outputs": [],
   "source": [
    "# Define the fits image (and hdu index) to be analysed\n",
    "# Cutouts were retrieved from ZTF: https://irsa.ipac.caltech.edu/applications/ztf/\n",
    "infits = \"../tests/data/ztf_Didymos-system-barycenter20065803_20221201402616_000567_zr_c10_o_q1_scimrefdiffimg.fits.fz\"  # faint tail by eye\n",
    "inhdu = 1"
   ]
  },
  {
   "cell_type": "code",
   "execution_count": null,
   "id": "58966fca",
   "metadata": {},
   "outputs": [],
   "source": [
    "# Number of azimuthal bins to perform wedge photometry over\n",
    "N_wedge = 10\n",
    "\n",
    "# Define inner and outer radii to calculate flux statistics over\n",
    "rin = 10  # pixels\n",
    "rout = 25  # pixels"
   ]
  },
  {
   "cell_type": "code",
   "execution_count": null,
   "id": "02627642",
   "metadata": {},
   "outputs": [],
   "source": [
    "# Inspect the fits image header data unit\n",
    "hdu = fits.open(infits)\n",
    "hdu.info()"
   ]
  },
  {
   "cell_type": "code",
   "execution_count": null,
   "id": "5e42bd92",
   "metadata": {},
   "outputs": [],
   "source": [
    "# Get image data and header\n",
    "img = hdu[inhdu].data\n",
    "hdr = hdu[inhdu].header"
   ]
  },
  {
   "cell_type": "code",
   "execution_count": null,
   "id": "5c106cbb",
   "metadata": {},
   "outputs": [],
   "source": [
    "# Look at the image\n",
    "fig = plt.figure()\n",
    "gs = gridspec.GridSpec(1, 1)\n",
    "ax1 = plt.subplot(gs[0, 0])\n",
    "\n",
    "norm = aviz.ImageNormalize(img, interval=aviz.ZScaleInterval())\n",
    "s1 = ax1.imshow(img, norm=norm, origin=\"lower\")\n",
    "cbar = plt.colorbar(s1)\n",
    "\n",
    "plt.show()"
   ]
  },
  {
   "cell_type": "code",
   "execution_count": null,
   "id": "5efd835f",
   "metadata": {},
   "outputs": [],
   "source": [
    "# Set up the adler wedge photometry class\n",
    "wp = WedgePhot(\n",
    "    fits_file=infits,  # image to analyse\n",
    "    i_hdu=inhdu,  # hdu index of image\n",
    "    N_wedge=N_wedge,  # number of wedges\n",
    "    measure=\"sum,mean,median,sigclip-mean,sigclip-std\",  # statistics to calculate\n",
    ")\n",
    "wp"
   ]
  },
  {
   "cell_type": "code",
   "execution_count": null,
   "id": "02ab2429",
   "metadata": {},
   "outputs": [],
   "source": [
    "# These are the azimuthal bin edges\n",
    "wp.az"
   ]
  },
  {
   "cell_type": "code",
   "execution_count": null,
   "id": "2e8e1734",
   "metadata": {},
   "outputs": [],
   "source": [
    "# This function calculates the flux statistics for each bin and compiles the results.\n",
    "# It constructs the relevant astscript-radial-profile commands and calls them with subprocess\n",
    "# The results table for each wedge is written to a temporary file, which is then read into a pandas DataFrame\n",
    "wp_results = wp.run_wedge_phot()"
   ]
  },
  {
   "cell_type": "code",
   "execution_count": null,
   "id": "58f16ce2",
   "metadata": {},
   "outputs": [],
   "source": [
    "# the results are stored in a dictionary, keyed by the index of each wedge\n",
    "# each key contains the upper and lower azimuthal bin edges of each wedge (az_min, az_max)\n",
    "# and the pandas DataFrame of the radial statistics (data)\n",
    "wp_results"
   ]
  },
  {
   "cell_type": "code",
   "execution_count": null,
   "id": "ccd0a239",
   "metadata": {},
   "outputs": [],
   "source": [
    "# plot the total flux in each radial bin, for each wedge\n",
    "x_plot = \"RADIUS\"\n",
    "y_plot = \"SUM\"\n",
    "\n",
    "fig = plt.figure()\n",
    "gs = gridspec.GridSpec(1, 1)\n",
    "ax1 = plt.subplot(gs[0, 0])\n",
    "\n",
    "for i in wp_results.keys():\n",
    "    df_plot = wp_results[i][\"data\"]\n",
    "    ax1.plot(df_plot[x_plot], df_plot[y_plot], label=i)\n",
    "    _df_plot = df_plot[~np.isnan(df_plot[y_plot])]\n",
    "    ax1.scatter(\n",
    "        _df_plot.iloc[-1][x_plot],\n",
    "        _df_plot.iloc[-1][y_plot],\n",
    "        c=\"k\",\n",
    "    )\n",
    "\n",
    "\n",
    "ax1.set_xlabel(x_plot)\n",
    "ax1.set_ylabel(y_plot)\n",
    "ax1.legend()\n",
    "\n",
    "plt.show()"
   ]
  },
  {
   "cell_type": "code",
   "execution_count": null,
   "id": "69fe1733",
   "metadata": {},
   "outputs": [],
   "source": [
    "# represent this as a radial plot showing the total flux in each wedge\n",
    "r_plot = \"SUM\"\n",
    "\n",
    "fig = plt.figure()\n",
    "gs = gridspec.GridSpec(1, 1)\n",
    "ax1 = plt.subplot(gs[0, 0], projection=\"polar\")\n",
    "\n",
    "# loop over each wedge\n",
    "for i in wp_results.keys():\n",
    "\n",
    "    amin = wp_results[i][\"az_min\"]\n",
    "    amax = wp_results[i][\"az_max\"]\n",
    "    a_plot = np.radians((amin + amax) * 0.5)\n",
    "    df_plot = wp_results[i][\"data\"]\n",
    "    df_plot = df_plot[(df_plot[\"RADIUS\"] >= rin) & (df_plot[\"RADIUS\"] < rout)]\n",
    "    df_plot = df_plot.dropna(how=\"any\")\n",
    "    df_plot = df_plot[\n",
    "        (df_plot[r_plot] != 0) & (df_plot[r_plot] > 0)\n",
    "    ]  # negative values of flux can make the bins weird\n",
    "    ax1.scatter(a_plot, np.sum(df_plot[r_plot]), c=\"k\")\n",
    "    ax1.plot([0, a_plot], [0, np.sum(df_plot[r_plot])], c=\"k\")\n",
    "\n",
    "ax1.scatter(0, 0, c=\"r\", marker=\"x\")\n",
    "\n",
    "ax1.set_xticks(np.radians(wp.az))\n",
    "\n",
    "ax1.set_rlabel_position(0)  # Move radial labels away from plotted line\n",
    "ax1.set_rticks(ax1.get_yticks()[::2])  # Less radial ticks\n",
    "\n",
    "fig.suptitle(\"{}(flux)\".format(r_plot))\n",
    "\n",
    "plt.show()"
   ]
  },
  {
   "cell_type": "code",
   "execution_count": null,
   "id": "0121eba2",
   "metadata": {},
   "outputs": [],
   "source": [
    "# Function for finding points on a circle\n",
    "def circle_xy(t, r=1, a=0, b=0):\n",
    "    \"\"\"\n",
    "    t: float\n",
    "        Azimuthal angle, radians\n",
    "    r: float\n",
    "        Radius of the circle\n",
    "    a: float\n",
    "        X coordinate of circle centre\n",
    "    b: float\n",
    "        Y coordinate of circle centre\n",
    "    \"\"\"\n",
    "    x = a + (r * np.cos(t))\n",
    "    y = b + (r * np.sin(t))\n",
    "    return x, y"
   ]
  },
  {
   "cell_type": "code",
   "execution_count": null,
   "id": "57f5741e",
   "metadata": {},
   "outputs": [],
   "source": [
    "plot_img = img\n",
    "\n",
    "fig = plt.figure()\n",
    "gs = gridspec.GridSpec(1, 1)\n",
    "ax1 = plt.subplot(gs[0, 0])\n",
    "\n",
    "# Display the image\n",
    "norm = aviz.ImageNormalize(plot_img, interval=aviz.ZScaleInterval())\n",
    "s1 = ax1.imshow(plot_img, norm=norm, origin=\"lower\")\n",
    "c1 = plt.colorbar(s1)\n",
    "\n",
    "# https://photutils.readthedocs.io/en/latest/user_guide/aperture.html#local-background-subtraction\n",
    "\n",
    "# Define the centre of the image\n",
    "positions = [tuple(np.array(plot_img.shape) / 2)]\n",
    "\n",
    "# Determine and plot the outer most radius used by WedgePhot, either the image edge or defined by user\n",
    "if wp.ap_rad_out is None:\n",
    "    ap_rad_out = np.amin(plot_img.shape) / 2.0\n",
    "else:\n",
    "    ap_rad_out = wp.ap_rad_out\n",
    "aperture = CircularAperture(positions, r=ap_rad_out)\n",
    "ap_patches = aperture.plot(color=\"red\", lw=2, label=\"outer aperture\")\n",
    "\n",
    "# Plot the annulus over which the statistics are calculated\n",
    "annulus_aperture = CircularAnnulus(positions, r_in=rin, r_out=rout)\n",
    "ann_patches = annulus_aperture.plot(color=\"r\", lw=2, label=\"Background annulus\")\n",
    "\n",
    "# Plot the wedges\n",
    "x_in, y_in = circle_xy(np.radians(wp.az), r=rin, a=positions[0][0], b=positions[0][0])\n",
    "x_out, y_out = circle_xy(np.radians(wp.az), r=rout, a=positions[0][0], b=positions[0][0])\n",
    "for i in range(len(wp.az)):\n",
    "    ax1.plot([x_in[i], x_out[i]], [y_in[i], y_out[i]], \"r\")\n",
    "\n",
    "fig.suptitle(infits)\n",
    "\n",
    "plt.show()"
   ]
  },
  {
   "cell_type": "code",
   "execution_count": null,
   "id": "f2d049e7",
   "metadata": {},
   "outputs": [],
   "source": []
  }
 ],
 "metadata": {
  "kernelspec": {
   "display_name": "adler-dev-gnu2",
   "language": "python",
   "name": "adler-dev-gnu2"
  },
  "language_info": {
   "codemirror_mode": {
    "name": "ipython",
    "version": 3
   },
   "file_extension": ".py",
   "mimetype": "text/x-python",
   "name": "python",
   "nbconvert_exporter": "python",
   "pygments_lexer": "ipython3",
   "version": "3.10.17"
  }
 },
 "nbformat": 4,
 "nbformat_minor": 5
}
