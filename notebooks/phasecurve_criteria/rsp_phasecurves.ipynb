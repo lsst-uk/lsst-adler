{
 "cells": [
  {
   "cell_type": "code",
   "execution_count": null,
   "id": "3e56f638",
   "metadata": {},
   "outputs": [],
   "source": [
    "from adler.objectdata.AdlerPlanetoid import AdlerPlanetoid\n",
    "from adler.science.PhaseCurve import PhaseCurve\n",
    "from adler.utilities.plotting_utilities import plot_errorbar\n",
    "import adler.utilities.science_utilities as sci_utils\n",
    "\n",
    "import numpy as np\n",
    "import pandas as pd\n",
    "import matplotlib.pyplot as plt\n",
    "import matplotlib.gridspec as gridspec\n",
    "import astropy.units as u"
   ]
  },
  {
   "cell_type": "code",
   "execution_count": null,
   "id": "e6732cf1",
   "metadata": {},
   "outputs": [],
   "source": [
    "n_samp = 100\n",
    "pop_list = [\"MB\", \"KBO\", \"NEA\", \"JT\"]\n",
    "error_list = []\n",
    "\n",
    "for pop in pop_list:\n",
    "\n",
    "    print(pop)\n",
    "    fname_sample = \"df_sample_{}_{}.csv\".format(n_samp, pop)\n",
    "    _df = pd.read_csv(fname_sample, index_col=0)\n",
    "\n",
    "    #     for i,sso_oid in enumerate(np.array(_df[\"sso_number\"]).astype(int)):\n",
    "\n",
    "    #         print(i)\n",
    "\n",
    "    #         sso_oid = str(sso_oid)\n",
    "\n",
    "    #         fname_ztf = \"data/df_{}_ztf.csv\".format(sso_oid)\n",
    "\n",
    "    #         if os.path.isfile(fname_ztf):\n",
    "    #             print(\"load {}\".format(fname_ztf))\n",
    "    #             df_sso = pd.read_csv(fname_ztf,index_col = 0)\n",
    "    #         else:\n",
    "    #             print(\"query {}\".format(sso_oid))\n",
    "\n",
    "    #             try:\n",
    "    #                 df_sso = pct.query_fink(sso_oid, save_dir = \"data\")\n",
    "    #             except:\n",
    "    #                 print(\"query error\")\n",
    "    #                 error_list.append(sso_oid)\n",
    "    #                 continue\n",
    "\n",
    "    #         fname_results = \"results/df_{}_{}_HG12.csv\".format(sso_oid,filtdic[filt])\n",
    "\n",
    "    #         if os.path.isfile(fname_results):\n",
    "    #             print(\"load {}\".format(fname_results))\n",
    "    #             df_dat = pd.read_csv(fname_results,index_col = 0)\n",
    "\n",
    "    #         else:\n",
    "    #             print(\"fit {}\".format(sso_oid))\n",
    "\n",
    "    #             try:\n",
    "    #                 df_dat = pct.phasecurve_tests(df_sso, sso_oid,\n",
    "    #                                           phase_fit = True, save_dir = \"results\")\n",
    "    #             except:\n",
    "    #                 print(\"fit error\")\n",
    "    #                 error_list.append(sso_oid)\n",
    "    #                 continue\n",
    "\n",
    "    # #             fname_results = \"results/df_{}_{}_HG12.csv\".format(sso_oid,filtdic[filt])\n",
    "    # #             print(fname_results)\n",
    "    # #             df_dat.to_csv(fname_results)\n",
    "\n",
    "    # #         break\n",
    "    break"
   ]
  },
  {
   "cell_type": "code",
   "execution_count": null,
   "id": "72200087",
   "metadata": {},
   "outputs": [],
   "source": [
    "_df"
   ]
  },
  {
   "cell_type": "code",
   "execution_count": null,
   "id": "01c7003a",
   "metadata": {},
   "outputs": [],
   "source": []
  }
 ],
 "metadata": {
  "kernelspec": {
   "display_name": "adler-dev",
   "language": "python",
   "name": "adler-dev"
  },
  "language_info": {
   "codemirror_mode": {
    "name": "ipython",
    "version": 3
   },
   "file_extension": ".py",
   "mimetype": "text/x-python",
   "name": "python",
   "nbconvert_exporter": "python",
   "pygments_lexer": "ipython3",
   "version": "3.10.14"
  }
 },
 "nbformat": 4,
 "nbformat_minor": 5
}
