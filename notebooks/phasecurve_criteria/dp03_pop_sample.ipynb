{
 "cells": [
  {
   "cell_type": "markdown",
   "id": "5bd50ff3-6d3e-41bf-80a0-99e30093ab4b",
   "metadata": {},
   "source": [
    "Notebook to create a sample of DP0.3 for different SSO populations"
   ]
  },
  {
   "cell_type": "code",
   "execution_count": null,
   "id": "3e56f638",
   "metadata": {},
   "outputs": [],
   "source": [
    "from adler.objectdata.AdlerPlanetoid import AdlerPlanetoid\n",
    "from adler.science.PhaseCurve import PhaseCurve\n",
    "from adler.utilities.plotting_utilities import plot_errorbar\n",
    "import adler.utilities.science_utilities as sci_utils\n",
    "\n",
    "import numpy as np\n",
    "import pandas as pd\n",
    "import matplotlib.pyplot as plt\n",
    "import matplotlib.gridspec as gridspec\n",
    "import astropy.units as u\n",
    "from lsst.rsp import get_tap_service\n",
    "import sqlite3"
   ]
  },
  {
   "cell_type": "code",
   "execution_count": null,
   "id": "a906ebb6-8126-4772-bd7f-ac6d54a09ee9",
   "metadata": {},
   "outputs": [],
   "source": [
    "service = get_tap_service(\"ssotap\")\n",
    "assert service is not None"
   ]
  },
  {
   "cell_type": "code",
   "execution_count": null,
   "id": "96907593-0921-4a43-a178-128700cb4cfb",
   "metadata": {},
   "outputs": [],
   "source": [
    "# name of sample database\n",
    "db_fname = \"dp03_pop_sample.db\"\n",
    "cnx = sqlite3.connect(db_fname)"
   ]
  },
  {
   "cell_type": "code",
   "execution_count": null,
   "id": "ee595f97-4ea1-4cd6-87a6-32a6c6c06c52",
   "metadata": {},
   "outputs": [],
   "source": [
    "sample_fname = \"df_ssoid_dp03_pop_sample.csv\""
   ]
  },
  {
   "cell_type": "code",
   "execution_count": null,
   "id": "e6732cf1",
   "metadata": {},
   "outputs": [],
   "source": [
    "n_samp = 100\n",
    "pop_list = [\"MB\", \"KBO\", \"NEA\", \"JT\"]\n",
    "\n",
    "if os.path.isfile(sample_fname):\n",
    "    df_obj = pd.read_csv(sample_fname, index_col=0)\n",
    "else:\n",
    "    df_obj = pd.DataFrame()\n",
    "    for pop in pop_list:\n",
    "\n",
    "        # load the sample objects (from ZTF)\n",
    "        print(pop)\n",
    "        fname_sample = \"df_sample_{}_{}.csv\".format(n_samp, pop)\n",
    "        _df = pd.read_csv(fname_sample, index_col=0)\n",
    "\n",
    "        # get the DP0.3 ssObjectIds for sample objects\n",
    "        id_list = tuple([\"2011 {}\".format(x) for x in _df[\"sso_name\"]])\n",
    "        query = \"\"\"\n",
    "        SELECT\n",
    "            mpc.fullDesignation, mpc.ssObjectId\n",
    "        FROM\n",
    "            dp03_catalogs_10yr.MPCORB as mpc\n",
    "        WHERE\n",
    "            mpc.fullDesignation in {}\n",
    "        \"\"\".format(\n",
    "            id_list\n",
    "        )\n",
    "        _df_obj = service.search(query).to_table().to_pandas()\n",
    "        _df_obj[\"pop\"] = pop\n",
    "        print(len(_df_obj))\n",
    "\n",
    "        df_obj = pd.concat([df_obj, _df_obj])\n",
    "\n",
    "    df_obj.to_csv(sample_fname)"
   ]
  },
  {
   "cell_type": "code",
   "execution_count": null,
   "id": "18d76ea3-39e1-4033-9d10-e67217c4fd99",
   "metadata": {},
   "outputs": [],
   "source": [
    "df_obj"
   ]
  },
  {
   "cell_type": "code",
   "execution_count": null,
   "id": "908fdbc2-1559-4f6e-b543-d90bd1f7d8a5",
   "metadata": {},
   "outputs": [],
   "source": [
    "df_obj.value_counts(\"pop\")"
   ]
  },
  {
   "cell_type": "code",
   "execution_count": null,
   "id": "aa4ddd77-23a4-44c8-a146-fd384d81bed0",
   "metadata": {},
   "outputs": [],
   "source": [
    "# query all tables for these objects and write them to a new database\n",
    "ssoid_list = tuple(df_obj[\"ssObjectId\"])\n",
    "for tab in [\"SSObject\", \"MPCORB\", \"DiaSource\", \"SSSource\"]:\n",
    "    print(tab)\n",
    "    query = f\"\"\"\n",
    "            SELECT\n",
    "                *\n",
    "            FROM\n",
    "                dp03_catalogs_10yr.{tab}\n",
    "            WHERE\n",
    "                ssObjectId in {ssoid_list}\n",
    "            \"\"\"\n",
    "    df_tab = service.search(query).to_table().to_pandas()\n",
    "    df_tab.to_sql(tab, con=cnx, if_exists=\"replace\", index=False)"
   ]
  },
  {
   "cell_type": "code",
   "execution_count": null,
   "id": "4cb7d1d3-61db-4699-8272-baa9dde0fea2",
   "metadata": {},
   "outputs": [],
   "source": [
    "# test adler query\n",
    "ssoid = ssoid_list[0]\n",
    "planetoid1 = AdlerPlanetoid.construct_from_SQL(ssoid, sql_filename=db_fname)\n",
    "fig = plot_errorbar(planetoid1, filt_list=planetoid1.filter_list, x_plot=\"phaseAngle\", y_plot=\"reduced_mag\")"
   ]
  },
  {
   "cell_type": "code",
   "execution_count": null,
   "id": "d8d7d18c-0d49-49d1-a2e6-c7a88c1a1355",
   "metadata": {},
   "outputs": [],
   "source": [
    "planetoid2 = AdlerPlanetoid.construct_from_RSP(ssoid)\n",
    "fig = plot_errorbar(planetoid2, filt_list=planetoid2.filter_list, x_plot=\"phaseAngle\", y_plot=\"reduced_mag\")"
   ]
  },
  {
   "cell_type": "code",
   "execution_count": null,
   "id": "72de51ab-a34d-4226-a2ef-70cae54b77ca",
   "metadata": {},
   "outputs": [],
   "source": []
  }
 ],
 "metadata": {
  "kernelspec": {
   "display_name": "adler-dev",
   "language": "python",
   "name": "adler-dev"
  },
  "language_info": {
   "codemirror_mode": {
    "name": "ipython",
    "version": 3
   },
   "file_extension": ".py",
   "mimetype": "text/x-python",
   "name": "python",
   "nbconvert_exporter": "python",
   "pygments_lexer": "ipython3",
   "version": "3.10.14"
  }
 },
 "nbformat": 4,
 "nbformat_minor": 5
}
