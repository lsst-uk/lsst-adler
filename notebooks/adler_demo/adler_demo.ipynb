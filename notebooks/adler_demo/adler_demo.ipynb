{
 "cells": [
  {
   "cell_type": "code",
   "execution_count": null,
   "id": "b7d20301-a262-4820-bb3a-7fb43e2556d6",
   "metadata": {
    "execution": {
     "iopub.execute_input": "2024-05-16T16:38:14.129116Z",
     "iopub.status.busy": "2024-05-16T16:38:14.128827Z",
     "iopub.status.idle": "2024-05-16T16:38:15.583700Z",
     "shell.execute_reply": "2024-05-16T16:38:15.582986Z",
     "shell.execute_reply.started": "2024-05-16T16:38:14.129097Z"
    }
   },
   "outputs": [],
   "source": [
    "from adler.objectdata.AdlerPlanetoid import AdlerPlanetoid\n",
    "from adler.science.PhaseCurve import PhaseCurve\n",
    "from adler.utilities.plotting_utilities import plot_errorbar\n",
    "import adler.utilities.science_utilities as sci_utils\n",
    "\n",
    "import numpy as np\n",
    "import pandas as pd\n",
    "import matplotlib.pyplot as plt\n",
    "import matplotlib.gridspec as gridspec\n",
    "import astropy.units as u"
   ]
  },
  {
   "cell_type": "code",
   "execution_count": null,
   "id": "2de26df9-d4e8-465e-9698-8db0219ebcdd",
   "metadata": {
    "execution": {
     "iopub.execute_input": "2024-05-16T16:38:15.585255Z",
     "iopub.status.busy": "2024-05-16T16:38:15.584619Z",
     "iopub.status.idle": "2024-05-16T16:38:15.588002Z",
     "shell.execute_reply": "2024-05-16T16:38:15.587337Z",
     "shell.execute_reply.started": "2024-05-16T16:38:15.585234Z"
    }
   },
   "outputs": [],
   "source": [
    "# notebook to show adler searching for outlying photometry\n",
    "# we could simply use the adler api to do this, but let's demo the CLI that would be running on a server"
   ]
  },
  {
   "cell_type": "code",
   "execution_count": null,
   "id": "a82c036c-e922-4316-9cd6-74119bfe2357",
   "metadata": {
    "execution": {
     "iopub.execute_input": "2024-05-16T16:38:15.589009Z",
     "iopub.status.busy": "2024-05-16T16:38:15.588798Z",
     "iopub.status.idle": "2024-05-16T16:38:15.603718Z",
     "shell.execute_reply": "2024-05-16T16:38:15.602882Z",
     "shell.execute_reply.started": "2024-05-16T16:38:15.588995Z"
    }
   },
   "outputs": [],
   "source": [
    "# ssObjectId of object to analyse\n",
    "ssoid1 = \"6098332225018\"  # good test object\n",
    "ssoid2 = \"6098332225018000\"  # fake outburst object\n",
    "filt = \"r\""
   ]
  },
  {
   "cell_type": "code",
   "execution_count": null,
   "id": "3715f85a-1939-4ebb-894b-b262ea84865c",
   "metadata": {
    "execution": {
     "iopub.execute_input": "2024-05-16T16:38:15.604948Z",
     "iopub.status.busy": "2024-05-16T16:38:15.604643Z",
     "iopub.status.idle": "2024-05-16T16:38:15.765721Z",
     "shell.execute_reply": "2024-05-16T16:38:15.765102Z",
     "shell.execute_reply.started": "2024-05-16T16:38:15.604930Z"
    }
   },
   "outputs": [],
   "source": [
    "# here we use an offline SQL database which contains the observations of the sso\n",
    "fname = \"/home/jrob/lsst-adler/notebooks/gen_test_data/adler_demo_testing_database.db\"\n",
    "planetoid1 = AdlerPlanetoid.construct_from_SQL(ssoid1, sql_filename=fname)\n",
    "planetoid2 = AdlerPlanetoid.construct_from_SQL(ssoid2, sql_filename=fname)\n",
    "\n",
    "# or query DP0.3 directly when on RSP\n",
    "# planetoid1 = AdlerPlanetoid.construct_from_RSP(ssoid1)"
   ]
  },
  {
   "cell_type": "code",
   "execution_count": null,
   "id": "43d4f906-c055-4dd6-abe5-b559b3992023",
   "metadata": {
    "execution": {
     "iopub.execute_input": "2024-05-16T16:38:15.768171Z",
     "iopub.status.busy": "2024-05-16T16:38:15.767880Z",
     "iopub.status.idle": "2024-05-16T16:38:15.772145Z",
     "shell.execute_reply": "2024-05-16T16:38:15.771604Z",
     "shell.execute_reply.started": "2024-05-16T16:38:15.768154Z"
    }
   },
   "outputs": [],
   "source": [
    "planetoid1"
   ]
  },
  {
   "cell_type": "code",
   "execution_count": null,
   "id": "1c5be63b-295a-4ec0-959d-bc27e2e50ca1",
   "metadata": {
    "execution": {
     "iopub.execute_input": "2024-05-16T16:38:15.773095Z",
     "iopub.status.busy": "2024-05-16T16:38:15.772893Z",
     "iopub.status.idle": "2024-05-16T16:38:15.808371Z",
     "shell.execute_reply": "2024-05-16T16:38:15.807616Z",
     "shell.execute_reply.started": "2024-05-16T16:38:15.773080Z"
    }
   },
   "outputs": [],
   "source": [
    "planetoid1.__dict__"
   ]
  },
  {
   "cell_type": "code",
   "execution_count": null,
   "id": "8350af69-b369-4f96-b46d-f00865504505",
   "metadata": {
    "execution": {
     "iopub.execute_input": "2024-05-16T16:38:15.809631Z",
     "iopub.status.busy": "2024-05-16T16:38:15.809299Z",
     "iopub.status.idle": "2024-05-16T16:38:16.363874Z",
     "shell.execute_reply": "2024-05-16T16:38:16.363226Z",
     "shell.execute_reply.started": "2024-05-16T16:38:15.809611Z"
    }
   },
   "outputs": [],
   "source": [
    "fig = plot_errorbar(planetoid1, filt_list=[\"r\"], x_plot=\"midPointMjdTai\", y_plot=\"reduced_mag\")\n",
    "fig = plot_errorbar(planetoid1, filt_list=[\"r\"], x_plot=\"phaseAngle\", y_plot=\"reduced_mag\")"
   ]
  },
  {
   "cell_type": "code",
   "execution_count": null,
   "id": "b334d23a-792c-42a3-a396-533987b08bee",
   "metadata": {
    "execution": {
     "iopub.execute_input": "2024-05-16T16:38:16.365028Z",
     "iopub.status.busy": "2024-05-16T16:38:16.364799Z",
     "iopub.status.idle": "2024-05-16T16:38:16.830194Z",
     "shell.execute_reply": "2024-05-16T16:38:16.829613Z",
     "shell.execute_reply.started": "2024-05-16T16:38:16.365012Z"
    }
   },
   "outputs": [],
   "source": [
    "fig = plot_errorbar(planetoid2, filt_list=[\"r\"], x_plot=\"midPointMjdTai\", y_plot=\"reduced_mag\")\n",
    "fig = plot_errorbar(planetoid2, filt_list=[\"r\"], x_plot=\"phaseAngle\", y_plot=\"reduced_mag\")"
   ]
  },
  {
   "cell_type": "code",
   "execution_count": null,
   "id": "598c6098-0ddf-470f-acc8-e1962d9abbb7",
   "metadata": {
    "execution": {
     "iopub.execute_input": "2024-05-16T16:38:16.831659Z",
     "iopub.status.busy": "2024-05-16T16:38:16.831084Z",
     "iopub.status.idle": "2024-05-16T16:38:16.834249Z",
     "shell.execute_reply": "2024-05-16T16:38:16.833691Z",
     "shell.execute_reply.started": "2024-05-16T16:38:16.831640Z"
    }
   },
   "outputs": [],
   "source": [
    "# inspect observations"
   ]
  },
  {
   "cell_type": "code",
   "execution_count": null,
   "id": "c31d37ac-e020-4e1b-a47d-842d4d2f7e53",
   "metadata": {
    "execution": {
     "iopub.execute_input": "2024-05-16T16:38:16.835361Z",
     "iopub.status.busy": "2024-05-16T16:38:16.835001Z",
     "iopub.status.idle": "2024-05-16T16:38:16.849517Z",
     "shell.execute_reply": "2024-05-16T16:38:16.848946Z",
     "shell.execute_reply.started": "2024-05-16T16:38:16.835345Z"
    }
   },
   "outputs": [],
   "source": [
    "obs = planetoid1.observations_in_filter(filt)"
   ]
  },
  {
   "cell_type": "code",
   "execution_count": null,
   "id": "08860ab8-5b1b-49b5-9390-f379b5429b51",
   "metadata": {
    "execution": {
     "iopub.execute_input": "2024-05-16T16:38:16.850788Z",
     "iopub.status.busy": "2024-05-16T16:38:16.850311Z",
     "iopub.status.idle": "2024-05-16T16:38:16.864473Z",
     "shell.execute_reply": "2024-05-16T16:38:16.863848Z",
     "shell.execute_reply.started": "2024-05-16T16:38:16.850770Z"
    }
   },
   "outputs": [],
   "source": [
    "df_obs = pd.DataFrame(obs.__dict__)"
   ]
  },
  {
   "cell_type": "code",
   "execution_count": null,
   "id": "46852c0e-d4c4-4e2c-9c64-f8497898c3a4",
   "metadata": {
    "execution": {
     "iopub.execute_input": "2024-05-16T16:38:16.865419Z",
     "iopub.status.busy": "2024-05-16T16:38:16.865219Z",
     "iopub.status.idle": "2024-05-16T16:38:16.894396Z",
     "shell.execute_reply": "2024-05-16T16:38:16.893776Z",
     "shell.execute_reply.started": "2024-05-16T16:38:16.865405Z"
    }
   },
   "outputs": [],
   "source": [
    "df_obs"
   ]
  },
  {
   "cell_type": "code",
   "execution_count": null,
   "id": "a1a8c2c3-0639-4a05-80ff-ae4231bdaf4a",
   "metadata": {
    "execution": {
     "iopub.execute_input": "2024-05-16T16:38:16.895808Z",
     "iopub.status.busy": "2024-05-16T16:38:16.895268Z",
     "iopub.status.idle": "2024-05-16T16:38:16.900887Z",
     "shell.execute_reply": "2024-05-16T16:38:16.900322Z",
     "shell.execute_reply.started": "2024-05-16T16:38:16.895787Z"
    }
   },
   "outputs": [],
   "source": [
    "tmin = np.amin(np.floor(df_obs[\"midPointMjdTai\"]))  # mjd\n",
    "tmax = np.amax(np.floor(df_obs[\"midPointMjdTai\"])) + 1  # mjd\n",
    "tmin, tmax"
   ]
  },
  {
   "cell_type": "code",
   "execution_count": null,
   "id": "a50e7a2e-a16f-4d08-b096-d891a720bb2f",
   "metadata": {
    "execution": {
     "iopub.execute_input": "2024-05-16T16:38:16.902113Z",
     "iopub.status.busy": "2024-05-16T16:38:16.901692Z",
     "iopub.status.idle": "2024-05-16T16:38:17.097053Z",
     "shell.execute_reply": "2024-05-16T16:38:17.096408Z",
     "shell.execute_reply.started": "2024-05-16T16:38:16.902095Z"
    }
   },
   "outputs": [],
   "source": [
    "# cumulative data in filter\n",
    "x_plot = \"midPointMjdTai\"\n",
    "df_plot = df_obs.sort_values(x_plot)\n",
    "\n",
    "fig = plt.figure()\n",
    "gs = gridspec.GridSpec(1, 1)\n",
    "ax1 = plt.subplot(gs[0, 0])\n",
    "\n",
    "bins = np.arange(tmin, tmax + 1)\n",
    "\n",
    "values, base = np.histogram(df_plot[x_plot], bins=bins)\n",
    "cumulative = np.cumsum(values)\n",
    "ax1.plot(base[:-1] - base[0], cumulative, label=filt)\n",
    "\n",
    "data_mask = np.diff(cumulative) > 0\n",
    "data_nights = base[1:-1][data_mask]\n",
    "N_data = cumulative[1:][data_mask]\n",
    "\n",
    "ax1.scatter(data_nights - data_nights[0], N_data)\n",
    "\n",
    "ax1.set_xlabel(x_plot)\n",
    "ax1.set_ylabel(\"number\")\n",
    "ax1.legend()\n",
    "\n",
    "plt.show()"
   ]
  },
  {
   "cell_type": "code",
   "execution_count": null,
   "id": "1c2bcbd8-702a-468c-a96c-b1d2ee91e9ea",
   "metadata": {
    "execution": {
     "iopub.execute_input": "2024-05-16T16:38:17.098165Z",
     "iopub.status.busy": "2024-05-16T16:38:17.097942Z",
     "iopub.status.idle": "2024-05-16T16:38:17.102814Z",
     "shell.execute_reply": "2024-05-16T16:38:17.102289Z",
     "shell.execute_reply.started": "2024-05-16T16:38:17.098148Z"
    }
   },
   "outputs": [],
   "source": [
    "# number of data points per night of new data\n",
    "np.diff(N_data)"
   ]
  },
  {
   "cell_type": "code",
   "execution_count": null,
   "id": "2c32de0b-71b4-459c-8a64-d181df4392cb",
   "metadata": {
    "execution": {
     "iopub.execute_input": "2024-05-16T16:38:17.103777Z",
     "iopub.status.busy": "2024-05-16T16:38:17.103554Z",
     "iopub.status.idle": "2024-05-16T16:38:17.119164Z",
     "shell.execute_reply": "2024-05-16T16:38:17.118612Z",
     "shell.execute_reply.started": "2024-05-16T16:38:17.103761Z"
    }
   },
   "outputs": [],
   "source": [
    "# nights when new data arrives\n",
    "data_nights"
   ]
  },
  {
   "cell_type": "code",
   "execution_count": null,
   "id": "80108e40-0417-4b82-b73f-4cdf872b4a4c",
   "metadata": {
    "execution": {
     "iopub.execute_input": "2024-05-16T16:38:17.120143Z",
     "iopub.status.busy": "2024-05-16T16:38:17.119942Z",
     "iopub.status.idle": "2024-05-16T16:38:17.132937Z",
     "shell.execute_reply": "2024-05-16T16:38:17.132315Z",
     "shell.execute_reply.started": "2024-05-16T16:38:17.120128Z"
    }
   },
   "outputs": [],
   "source": [
    "# write commands to simulate adler cli searching for phase curve outliers on incoming data"
   ]
  },
  {
   "cell_type": "code",
   "execution_count": null,
   "id": "78e209fa-7cd3-4b29-a14c-28ddafd1f813",
   "metadata": {
    "execution": {
     "iopub.execute_input": "2024-05-16T16:38:17.134002Z",
     "iopub.status.busy": "2024-05-16T16:38:17.133785Z",
     "iopub.status.idle": "2024-05-16T16:38:17.147051Z",
     "shell.execute_reply": "2024-05-16T16:38:17.146431Z",
     "shell.execute_reply.started": "2024-05-16T16:38:17.133987Z"
    }
   },
   "outputs": [],
   "source": [
    "# cmd_list = []\n",
    "# outpath = \"~/lsst-adler/logging\"\n",
    "# cmd = \"adler -s {} -f {} -o {}\".format(ssoid2,filt,outpath)\n",
    "\n",
    "# for t0 in data_nights:\n",
    "#     t1 = t0+1\n",
    "\n",
    "#     mask = (df_obs[\"midPointMjdTai\"]<t1)\n",
    "#     _df_obs = df_obs[mask]\n",
    "#     # print(t0,t1, len(_df_obs))\n",
    "#     _cmd = cmd + \" -i {} -d {} {}\".format(fname, tmin,t1)\n",
    "#     print(_cmd)\n",
    "#     cmd_list.append(_cmd)"
   ]
  },
  {
   "cell_type": "code",
   "execution_count": null,
   "id": "9f28a60a-dbec-4320-9150-f36ed75d4ffa",
   "metadata": {
    "execution": {
     "iopub.execute_input": "2024-05-16T16:38:17.148063Z",
     "iopub.status.busy": "2024-05-16T16:38:17.147855Z",
     "iopub.status.idle": "2024-05-16T16:38:17.161783Z",
     "shell.execute_reply": "2024-05-16T16:38:17.161131Z",
     "shell.execute_reply.started": "2024-05-16T16:38:17.148049Z"
    }
   },
   "outputs": [],
   "source": [
    "# cmd_file = \"../adler_demo_cli/adler_{}.sh\".format(ssoid2)\n",
    "# with open(cmd_file,\"w\") as f:\n",
    "#     f.write(\"#!/usr/bin/env bash\\n\")\n",
    "#     f.write(\"\\n\".join(cmd_list))"
   ]
  },
  {
   "cell_type": "code",
   "execution_count": null,
   "id": "574b7fb2-54db-4797-9d00-330964ed6bb9",
   "metadata": {
    "execution": {
     "iopub.execute_input": "2024-05-16T16:38:17.165476Z",
     "iopub.status.busy": "2024-05-16T16:38:17.165252Z",
     "iopub.status.idle": "2024-05-16T16:38:17.176989Z",
     "shell.execute_reply": "2024-05-16T16:38:17.176390Z",
     "shell.execute_reply.started": "2024-05-16T16:38:17.165460Z"
    }
   },
   "outputs": [],
   "source": [
    "# using the adler api, search for outliers"
   ]
  },
  {
   "cell_type": "code",
   "execution_count": null,
   "id": "c285a1ee-a168-45ec-8c10-e82774230979",
   "metadata": {
    "execution": {
     "iopub.execute_input": "2024-05-16T16:38:17.178422Z",
     "iopub.status.busy": "2024-05-16T16:38:17.177953Z",
     "iopub.status.idle": "2024-05-16T16:38:49.153683Z",
     "shell.execute_reply": "2024-05-16T16:38:49.153052Z",
     "shell.execute_reply.started": "2024-05-16T16:38:17.178403Z"
    }
   },
   "outputs": [],
   "source": [
    "N_pc_fit = 10\n",
    "diff_cut = 1.0\n",
    "filt = \"r\"\n",
    "\n",
    "# get the filter SSObject metadata\n",
    "sso = planetoid2.SSObject_in_filter(filt)\n",
    "\n",
    "# get the observations\n",
    "obs = planetoid2.observations_in_filter(filt)\n",
    "df_obs = pd.DataFrame(obs.__dict__)\n",
    "\n",
    "# get the LSST phase curve filter model\n",
    "pc = PhaseCurve(\n",
    "    abs_mag=sso.H * u.mag,\n",
    "    phase_param=0.62,\n",
    "    model_name=\"HG12_Pen16\",\n",
    ")\n",
    "\n",
    "j = 0\n",
    "for i, t0 in enumerate(data_nights):\n",
    "    t1 = t0 + 1\n",
    "\n",
    "    # load the df_obs outlier column here\n",
    "    outlier_file_load = \"data/outlier_{}_{}.npy\".format(ssoid2, int(data_nights[i - 1]))\n",
    "    outlier_file_save = \"data/outlier_{}_{}\".format(ssoid2, int(t0))\n",
    "    if j == 0:\n",
    "        outliers = [False] * len(df_obs)\n",
    "    else:\n",
    "        outliers = np.load(outlier_file_load)\n",
    "    df_obs[\"outlier\"] = outliers\n",
    "\n",
    "    t_mask = df_obs[\"midPointMjdTai\"] < t1\n",
    "    _df_obs = df_obs[t_mask]\n",
    "    mask = _df_obs[\"midPointMjdTai\"] < t0\n",
    "    df_obs_old = _df_obs[(mask) & (_df_obs[\"outlier\"] == False)]\n",
    "    df_obs_new = _df_obs[~mask]\n",
    "\n",
    "    if len(df_obs_old) < 2:\n",
    "        print(\"continue\")\n",
    "        continue\n",
    "    else:\n",
    "        j = 1\n",
    "\n",
    "    if len(df_obs_old) < N_pc_fit:\n",
    "        # use an assumed value of G12 until more data is available\n",
    "        pc.model_function.G12.fixed = True\n",
    "    else:\n",
    "        pc.model_function.G12.fixed = False\n",
    "\n",
    "    # do a simple HG12_Pen16 fit to the past data\n",
    "    pc_fit = pc.FitModel(\n",
    "        np.array(df_obs_old[\"phaseAngle\"]) * u.deg,\n",
    "        np.array(df_obs_old[\"reduced_mag\"]) * u.mag,\n",
    "        np.array(df_obs_old[\"magErr\"]) * u.mag,\n",
    "    )\n",
    "    pc_fit = pc.InitModelSbpy(pc_fit)\n",
    "\n",
    "    print(t0, t1, len(df_obs_old), len(df_obs_new), pc_fit.model_function.H, pc_fit.model_function.G12)\n",
    "\n",
    "    # find outliers in new data\n",
    "    # calculate data - model residuals\n",
    "    res = (np.array(df_obs_new[\"reduced_mag\"]) * u.mag) - pc_fit.ReducedMag(\n",
    "        np.array(df_obs_new[\"phaseAngle\"]) * u.deg\n",
    "    )\n",
    "\n",
    "    outlier_flag = sci_utils.outlier_diff(res.value, diff_cut=diff_cut)\n",
    "    print(outlier_flag)\n",
    "\n",
    "    df_obs.loc[(t_mask & ~mask), \"outlier\"] = outlier_flag\n",
    "\n",
    "    # save the df_obs outlier column, in reality it would have been saved as part of AdlerData on the server\n",
    "    print(\"save {}\".format(outlier_file_save))\n",
    "    np.save(outlier_file_save, np.array(df_obs[\"outlier\"]))\n",
    "\n",
    "    # make a plot\n",
    "    fig = plot_errorbar(planetoid2, filt_list=[])\n",
    "    ax1 = fig.axes[0]\n",
    "    ax1.scatter(df_obs_old[\"phaseAngle\"], df_obs_old[\"reduced_mag\"], c=\"C0\")\n",
    "    alpha = np.linspace(0, np.amax(obs.phaseAngle)) * u.deg\n",
    "    ax1.plot(alpha.value, pc_fit.ReducedMag(alpha).value, label=\"t={}\".format(int(t0)))\n",
    "    ax1.scatter(\n",
    "        df_obs_new[\"phaseAngle\"], df_obs_new[\"reduced_mag\"], edgecolor=\"r\", facecolor=\"none\", zorder=3\n",
    "    )\n",
    "\n",
    "    # ax1.scatter(df_obs_new.loc[outlier_flag][\"phaseAngle\"], df_obs_new.loc[outlier_flag][\"reduced_mag\"], c = \"r\", marker = \"x\", s= 75, zorder = 3)\n",
    "    out_mask = df_obs[\"outlier\"] == True\n",
    "    ax1.scatter(\n",
    "        df_obs.loc[out_mask][\"phaseAngle\"],\n",
    "        df_obs.loc[out_mask][\"reduced_mag\"],\n",
    "        c=\"r\",\n",
    "        marker=\"x\",\n",
    "        s=75,\n",
    "        zorder=3,\n",
    "    )\n",
    "    fig_file = \"plots/phase_curve_{}_{}.png\".format(ssoid2, int(t0))\n",
    "    print(fig_file)\n",
    "    fig = plot_errorbar(planetoid2, fig=fig, filename=fig_file)\n",
    "    plt.show()"
   ]
  },
  {
   "cell_type": "code",
   "execution_count": null,
   "id": "fa32a24b-930f-4bf6-8d82-85a4a039783b",
   "metadata": {
    "execution": {
     "iopub.execute_input": "2024-05-16T16:38:49.154920Z",
     "iopub.status.busy": "2024-05-16T16:38:49.154677Z",
     "iopub.status.idle": "2024-05-16T16:38:49.170070Z",
     "shell.execute_reply": "2024-05-16T16:38:49.169497Z",
     "shell.execute_reply.started": "2024-05-16T16:38:49.154903Z"
    }
   },
   "outputs": [],
   "source": [
    "df_obs[df_obs[\"outlier\"] == True]"
   ]
  },
  {
   "cell_type": "code",
   "execution_count": null,
   "id": "ac78d242-bf3b-496a-b848-733bf961e3d9",
   "metadata": {},
   "outputs": [],
   "source": []
  }
 ],
 "metadata": {
  "kernelspec": {
   "display_name": "Python 3 (ipykernel)",
   "language": "python",
   "name": "python3"
  },
  "language_info": {
   "codemirror_mode": {
    "name": "ipython",
    "version": 3
   },
   "file_extension": ".py",
   "mimetype": "text/x-python",
   "name": "python",
   "nbconvert_exporter": "python",
   "pygments_lexer": "ipython3",
   "version": "3.10.13"
  }
 },
 "nbformat": 4,
 "nbformat_minor": 5
}
