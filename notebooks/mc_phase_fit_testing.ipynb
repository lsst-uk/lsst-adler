{
 "cells": [
  {
   "cell_type": "code",
   "execution_count": null,
   "id": "3f265be4",
   "metadata": {},
   "outputs": [],
   "source": [
    "%matplotlib notebook"
   ]
  },
  {
   "cell_type": "code",
   "execution_count": null,
   "id": "e4eb75bb",
   "metadata": {},
   "outputs": [],
   "source": [
    "%matplotlib inline"
   ]
  },
  {
   "cell_type": "code",
   "execution_count": null,
   "id": "e2154f51",
   "metadata": {},
   "outputs": [],
   "source": [
    "from adler.objectdata.AdlerPlanetoid import AdlerPlanetoid\n",
    "from adler.objectdata.AdlerData import AdlerData\n",
    "from adler.science.PhaseCurve import PhaseCurve\n",
    "from adler.utilities.plotting_utilities import plot_errorbar\n",
    "\n",
    "# from adler.utilities.science_utilities import get_df_obs_filt\n",
    "\n",
    "import numpy as np\n",
    "import pandas as pd\n",
    "import matplotlib.pyplot as plt\n",
    "import matplotlib.gridspec as gridspec\n",
    "import astropy.units as u\n",
    "from astropy.modeling.fitting import SLSQPLSQFitter"
   ]
  },
  {
   "cell_type": "code",
   "execution_count": null,
   "id": "fdd1f0f2",
   "metadata": {},
   "outputs": [],
   "source": [
    "# ssObjectId of object to analyse\n",
    "# ssoid = \"8268570668335894776\" # NEO\n",
    "ssoid = \"6098332225018\"  # good MBA test object\n",
    "# ssoid = \"5334524274243260416\""
   ]
  },
  {
   "cell_type": "code",
   "execution_count": null,
   "id": "472609a0",
   "metadata": {},
   "outputs": [],
   "source": [
    "# fname = \"../tests/data/testing_database.db\"\n",
    "fname = \"/Users/jrobinson/lsst-adler/notebooks/gen_test_data/adler_demo_testing_database.db\"\n",
    "planetoid = AdlerPlanetoid.construct_from_SQL(ssoid, sql_filename=fname)\n",
    "# planetoid = AdlerPlanetoid.construct_from_RSP(ssoid)"
   ]
  },
  {
   "cell_type": "code",
   "execution_count": null,
   "id": "e2ae7c0b",
   "metadata": {},
   "outputs": [],
   "source": [
    "resample = 100"
   ]
  },
  {
   "cell_type": "code",
   "execution_count": null,
   "id": "5b0c1412",
   "metadata": {},
   "outputs": [],
   "source": [
    "fig = plt.figure()\n",
    "gs = gridspec.GridSpec(1, 1)\n",
    "ax1 = plt.subplot(gs[0, 0])\n",
    "\n",
    "adler_cols = AdlerData(ssoid, planetoid.filter_list)\n",
    "\n",
    "for filt in [\"g\", \"r\"]:\n",
    "    # get observations and define a phase curve model to fit\n",
    "\n",
    "    sso = planetoid.SSObject_in_filter(filt)\n",
    "    obs = planetoid.observations_in_filter(filt)\n",
    "\n",
    "    H = sso.H\n",
    "    G12 = sso.G12\n",
    "    pc = PhaseCurve(H=H * u.mag, phase_parameter_1=G12, model_name=\"HG12_Pen16\")\n",
    "\n",
    "    alpha = (np.array(getattr(obs, \"phaseAngle\")) * u.deg,)\n",
    "    mag_err = np.array(getattr(obs, \"magErr\")) * u.mag\n",
    "    red_mag = np.array(getattr(obs, \"reduced_mag\")) * u.mag\n",
    "\n",
    "    pc_fit = pc.FitModel(\n",
    "        np.array(getattr(obs, \"phaseAngle\")) * u.deg,\n",
    "        red_mag,\n",
    "        mag_err,\n",
    "    )\n",
    "    pc = pc.InitModelSbpy(pc_fit)\n",
    "\n",
    "    #     adler_cols.populate_phase_parameters(filt,**pc.ReturnModelDict())\n",
    "\n",
    "    # add this phase curve to the figure\n",
    "    fig = plot_errorbar(planetoid, filt_list=[filt], fig=fig)\n",
    "    ax1 = fig.axes[0]\n",
    "    alpha_fit = np.linspace(0, np.amax(obs.phaseAngle)) * u.deg\n",
    "    ax1.plot(\n",
    "        alpha_fit.value,\n",
    "        pc.ReducedMag(alpha_fit).value,\n",
    "        label=\"{}: H={:.2f}, G12={:.2f}\".format(filt, pc.H, pc.phase_parameter_1),\n",
    "    )\n",
    "    ax1.legend()\n",
    "\n",
    "    mc_models = []\n",
    "    for i in range(resample):\n",
    "        _red_mag = np.random.normal(loc=np.array(red_mag), scale=np.array(mag_err)) * u.mag\n",
    "        ax1.scatter(alpha[0].value, _red_mag.value, s=1, c=\"k\", alpha=0.1, zorder=5)\n",
    "\n",
    "        _pc_fit = pc.FitModel(\n",
    "            np.array(getattr(obs, \"phaseAngle\")) * u.deg,\n",
    "            _red_mag,\n",
    "        )\n",
    "        _pc = pc.InitModelSbpy(_pc_fit)\n",
    "        ax1.plot(\n",
    "            alpha_fit.value,\n",
    "            _pc.ReducedMag(alpha_fit).value,\n",
    "            c=\"k\",\n",
    "            alpha=0.1,\n",
    "            zorder=0,\n",
    "            label=\"{}: H={:.2f}, G12={:.2f}\".format(filt, _pc.H, _pc.phase_parameter_1),\n",
    "        )\n",
    "\n",
    "        mc_models.append(_pc)\n",
    "\n",
    "    break\n",
    "\n",
    "ax1.invert_yaxis()\n",
    "\n",
    "plt.show()"
   ]
  },
  {
   "cell_type": "code",
   "execution_count": null,
   "id": "5d0ef23a-ea32-4e32-95ed-a344c4f2760b",
   "metadata": {},
   "outputs": [],
   "source": [
    "pc_fit.__dict__"
   ]
  },
  {
   "cell_type": "code",
   "execution_count": null,
   "id": "8fa4202e-e7f4-4438-a41e-dc7582312bca",
   "metadata": {},
   "outputs": [],
   "source": [
    "_pc_fit.param_names"
   ]
  },
  {
   "cell_type": "code",
   "execution_count": null,
   "id": "18e04044-8007-4b41-85d5-a9b1ad720223",
   "metadata": {},
   "outputs": [],
   "source": [
    "mc_models[0].__dict__.keys()"
   ]
  },
  {
   "cell_type": "code",
   "execution_count": null,
   "id": "f43eb646-cf4e-4103-a9d4-7f8b6c8d2738",
   "metadata": {},
   "outputs": [],
   "source": [
    "pc_fit_resamp = pc.FitModel(np.array(getattr(obs, \"phaseAngle\")) * u.deg, red_mag, mag_err, resample=resample)\n",
    "pc_fit_resamp = PhaseCurve().InitModelSbpy(pc_fit_resamp)"
   ]
  },
  {
   "cell_type": "code",
   "execution_count": null,
   "id": "871dc090-7c0e-41d7-bbc9-9a0ec0232d47",
   "metadata": {},
   "outputs": [],
   "source": [
    "pc_fit_resamp.__dict__"
   ]
  },
  {
   "cell_type": "code",
   "execution_count": null,
   "id": "3867d1de",
   "metadata": {},
   "outputs": [],
   "source": [
    "pc_fit_resamp.H, pc_fit_resamp.phase_parameter_1"
   ]
  },
  {
   "cell_type": "code",
   "execution_count": null,
   "id": "71cce253-96f2-44a9-923b-9d4af3c50db4",
   "metadata": {},
   "outputs": [],
   "source": [
    "pc_fit.__dict__"
   ]
  },
  {
   "cell_type": "code",
   "execution_count": null,
   "id": "6f05c9eb",
   "metadata": {},
   "outputs": [],
   "source": [
    "pc.__dict__"
   ]
  },
  {
   "cell_type": "code",
   "execution_count": null,
   "id": "919f0e21",
   "metadata": {},
   "outputs": [],
   "source": [
    "mag_err"
   ]
  },
  {
   "cell_type": "code",
   "execution_count": null,
   "id": "321547a5-28ff-416a-b370-93e4f55d4370",
   "metadata": {},
   "outputs": [],
   "source": [
    "np.median(mag_err)"
   ]
  },
  {
   "cell_type": "code",
   "execution_count": null,
   "id": "ea39b9b0",
   "metadata": {},
   "outputs": [],
   "source": [
    "mc_models[0].H, mc_models[0].phase_parameter_1"
   ]
  },
  {
   "cell_type": "code",
   "execution_count": null,
   "id": "dc96d3d6",
   "metadata": {},
   "outputs": [],
   "source": [
    "abs_mag = np.array([x.H.value for x in mc_models])\n",
    "phase_param = np.array([x.phase_parameter_1 for x in mc_models])"
   ]
  },
  {
   "cell_type": "code",
   "execution_count": null,
   "id": "040867f2",
   "metadata": {},
   "outputs": [],
   "source": [
    "phase_param"
   ]
  },
  {
   "cell_type": "code",
   "execution_count": null,
   "id": "8b21f899",
   "metadata": {},
   "outputs": [],
   "source": [
    "pc_fit.H, pc_fit.H_err"
   ]
  },
  {
   "cell_type": "code",
   "execution_count": null,
   "id": "1043bc2e",
   "metadata": {},
   "outputs": [],
   "source": [
    "pc.H, pc.H_err"
   ]
  },
  {
   "cell_type": "code",
   "execution_count": null,
   "id": "0ecaff7e",
   "metadata": {},
   "outputs": [],
   "source": [
    "fig = plt.figure()\n",
    "gs = gridspec.GridSpec(1, 2)\n",
    "ax1 = plt.subplot(gs[0, 0])\n",
    "ax2 = plt.subplot(gs[0, 1])\n",
    "\n",
    "label = \"resample test\"\n",
    "for x, ax, ax_lab in zip([abs_mag, phase_param], [ax1, ax2], [\"H\", \"phase_parameter_1\"]):\n",
    "    ax.hist(x, bins=\"auto\", histtype=\"step\")\n",
    "    mean = np.mean(x)\n",
    "    std = np.std(x)\n",
    "    print(label, ax_lab, mean, std)\n",
    "    ax.axvline(mean, label=label)\n",
    "    ax.axvspan(mean - std, mean + std, alpha=0.3)\n",
    "    ax.set_xlabel(ax_lab)\n",
    "\n",
    "for _pc, col, label in zip([pc, pc_fit_resamp], [\"k\", \"r\"], [\"single fit\", \"resample\"]):\n",
    "    for x_name, x_err_name, ax in zip(\n",
    "        [\"H\", \"phase_parameter_1\"], [\"H_err\", \"phase_parameter_1_err\"], [ax1, ax2]\n",
    "    ):\n",
    "        x = getattr(_pc, x_name)\n",
    "        x_err = getattr(_pc, x_err_name)\n",
    "\n",
    "        if hasattr(x, \"unit\"):\n",
    "            x = x.value\n",
    "        if hasattr(x_err, \"unit\"):\n",
    "            x_err = x_err.value\n",
    "\n",
    "        print(label, x_name, x, x_err)\n",
    "\n",
    "        ax.axvline(x, color=col, label=label)\n",
    "        ax.axvspan(x - x_err, x + x_err, alpha=0.3, color=col)\n",
    "\n",
    "ax1.legend()\n",
    "ax2.legend()\n",
    "\n",
    "plt.show()"
   ]
  },
  {
   "cell_type": "code",
   "execution_count": null,
   "id": "219b3e89",
   "metadata": {},
   "outputs": [],
   "source": [
    "pc.__dict__"
   ]
  },
  {
   "cell_type": "code",
   "execution_count": null,
   "id": "aa2bb33a",
   "metadata": {},
   "outputs": [],
   "source": [
    "_pc.__dict__"
   ]
  },
  {
   "cell_type": "code",
   "execution_count": null,
   "id": "c6a0cbce",
   "metadata": {},
   "outputs": [],
   "source": []
  }
 ],
 "metadata": {
  "kernelspec": {
   "display_name": "adler-dev",
   "language": "python",
   "name": "adler-dev"
  },
  "language_info": {
   "codemirror_mode": {
    "name": "ipython",
    "version": 3
   },
   "file_extension": ".py",
   "mimetype": "text/x-python",
   "name": "python",
   "nbconvert_exporter": "python",
   "pygments_lexer": "ipython3",
   "version": "3.10.14"
  }
 },
 "nbformat": 4,
 "nbformat_minor": 5
}
