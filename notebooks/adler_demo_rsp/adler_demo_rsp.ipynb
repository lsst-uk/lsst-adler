{
 "cells": [
  {
   "cell_type": "code",
   "execution_count": null,
   "id": "f50b8545-2147-46f2-9586-e66ce97dbbfe",
   "metadata": {
    "execution": {
     "iopub.execute_input": "2025-01-06T11:55:53.950740Z",
     "iopub.status.busy": "2025-01-06T11:55:53.950331Z",
     "iopub.status.idle": "2025-01-06T11:55:55.765168Z",
     "shell.execute_reply": "2025-01-06T11:55:55.764142Z",
     "shell.execute_reply.started": "2025-01-06T11:55:53.950697Z"
    }
   },
   "outputs": [],
   "source": [
    "import pandas as pd\n",
    "import numpy as np\n",
    "import matplotlib.pyplot as plt\n",
    "import matplotlib.gridspec as gridspec\n",
    "import os\n",
    "import matplotlib.colors as colors\n",
    "from sbpy.photometry import HG, HG1G2, HG12, HG12_Pen16, LinearPhaseFunc\n",
    "from astropy.modeling.fitting import LevMarLSQFitter\n",
    "import sqlite3\n",
    "\n",
    "from lsst.rsp import get_tap_service"
   ]
  },
  {
   "cell_type": "code",
   "execution_count": null,
   "id": "f5fc5248-9b1c-4af1-b3e2-64d8b9f4b7c1",
   "metadata": {
    "execution": {
     "iopub.execute_input": "2025-01-06T11:55:55.767246Z",
     "iopub.status.busy": "2025-01-06T11:55:55.766606Z",
     "iopub.status.idle": "2025-01-06T11:55:55.818160Z",
     "shell.execute_reply": "2025-01-06T11:55:55.817109Z",
     "shell.execute_reply.started": "2025-01-06T11:55:55.767207Z"
    }
   },
   "outputs": [],
   "source": [
    "service = get_tap_service(\"ssotap\")\n",
    "assert service is not None"
   ]
  },
  {
   "cell_type": "code",
   "execution_count": null,
   "id": "ae0560bc-0878-4756-94c5-b87ddc4f8313",
   "metadata": {
    "execution": {
     "iopub.execute_input": "2025-01-06T11:55:55.819629Z",
     "iopub.status.busy": "2025-01-06T11:55:55.819339Z",
     "iopub.status.idle": "2025-01-06T11:55:55.823113Z",
     "shell.execute_reply": "2025-01-06T11:55:55.822272Z",
     "shell.execute_reply.started": "2025-01-06T11:55:55.819605Z"
    }
   },
   "outputs": [],
   "source": [
    "# # count total rows in each table\n",
    "# for tab in [\"SSObject\",\n",
    "#             \"DiaSource\",\n",
    "#             \"SSSource\",\n",
    "#             \"MPCORB\"]:\n",
    "\n",
    "#     qry = \"\"\"SELECT COUNT(*) FROM dp03_catalogs_10yr.{}\"\"\".format(tab)\n",
    "#     _df = service.search(qry).to_table().to_pandas()\n",
    "\n",
    "#     print(tab,_df)"
   ]
  },
  {
   "cell_type": "code",
   "execution_count": null,
   "id": "2b7bdbac-8264-4880-8f58-824919646139",
   "metadata": {
    "execution": {
     "iopub.execute_input": "2025-01-06T11:55:55.825822Z",
     "iopub.status.busy": "2025-01-06T11:55:55.825492Z",
     "iopub.status.idle": "2025-01-06T11:55:55.841356Z",
     "shell.execute_reply": "2025-01-06T11:55:55.840475Z",
     "shell.execute_reply.started": "2025-01-06T11:55:55.825794Z"
    }
   },
   "outputs": [],
   "source": [
    "night = 61562  # night to test\n",
    "time_bounds = 0.5  # shift to get only observations from the night\n",
    "fname_id = \"df_id_{}.csv\".format(night)  # filename to save ids on night\n",
    "fname_obj = \"df_obj_{}.csv\".format(night)  # filename to save object details on the night\n",
    "fname_sso = \"df_sso_{}.csv\".format(night)\n",
    "qry_chunk = 5000  # number of objects to query at a time, dividing query to get it to run\n",
    "N_min = 3  # minimum number of observations to fit phase curve\n",
    "G12_start = 0.62  # assumed value of G12 (P16) which is closest to G=0.15\n",
    "fitter = LevMarLSQFitter()"
   ]
  },
  {
   "cell_type": "code",
   "execution_count": null,
   "id": "9b14a440-5008-47e2-8c76-4c229a89786d",
   "metadata": {
    "execution": {
     "iopub.execute_input": "2025-01-06T11:55:55.842728Z",
     "iopub.status.busy": "2025-01-06T11:55:55.842407Z",
     "iopub.status.idle": "2025-01-06T11:55:55.857417Z",
     "shell.execute_reply": "2025-01-06T11:55:55.856466Z",
     "shell.execute_reply.started": "2025-01-06T11:55:55.842700Z"
    }
   },
   "outputs": [],
   "source": [
    "query = \"\"\"SELECT DISTINCT dia.ssObjectId\n",
    "            FROM dp03_catalogs_10yr.DiaSource as dia\n",
    "            WHERE dia.midPointMjdTai > {} AND dia.midPointMjdTai < {}\n",
    "            \"\"\".format(\n",
    "    night - time_bounds, night + time_bounds\n",
    ")\n",
    "print(query)"
   ]
  },
  {
   "cell_type": "code",
   "execution_count": null,
   "id": "1966bab8-b863-4190-b58a-9f5a4e2e0ba2",
   "metadata": {
    "execution": {
     "iopub.execute_input": "2025-01-06T11:55:55.858685Z",
     "iopub.status.busy": "2025-01-06T11:55:55.858409Z",
     "iopub.status.idle": "2025-01-06T11:55:55.870629Z",
     "shell.execute_reply": "2025-01-06T11:55:55.869861Z",
     "shell.execute_reply.started": "2025-01-06T11:55:55.858663Z"
    }
   },
   "outputs": [],
   "source": [
    "# it takes ~3 mins to query this night"
   ]
  },
  {
   "cell_type": "code",
   "execution_count": null,
   "id": "addc88c5-c4bc-4c37-aff1-40e2a60298f3",
   "metadata": {
    "execution": {
     "iopub.execute_input": "2025-01-06T11:55:55.872309Z",
     "iopub.status.busy": "2025-01-06T11:55:55.871648Z",
     "iopub.status.idle": "2025-01-06T11:55:56.084915Z",
     "shell.execute_reply": "2025-01-06T11:55:56.084129Z",
     "shell.execute_reply.started": "2025-01-06T11:55:55.872274Z"
    }
   },
   "outputs": [],
   "source": [
    "if os.path.isfile(fname_id):\n",
    "    print(\"load {}\".format(fname_id))\n",
    "    df_id = pd.read_csv(fname_id, index_col=0)\n",
    "else:\n",
    "    print(\"run query\")\n",
    "    df_id = service.search(query).to_table().to_pandas()\n",
    "    print(\"save {}\".format(fname_id))\n",
    "    df_id.to_csv(fname_id)\n",
    "df_id"
   ]
  },
  {
   "cell_type": "code",
   "execution_count": null,
   "id": "b70acf82-fdc5-4a0b-930e-807cb93fb245",
   "metadata": {
    "execution": {
     "iopub.execute_input": "2025-01-06T11:55:56.086173Z",
     "iopub.status.busy": "2025-01-06T11:55:56.085911Z",
     "iopub.status.idle": "2025-01-06T11:55:56.089606Z",
     "shell.execute_reply": "2025-01-06T11:55:56.088842Z",
     "shell.execute_reply.started": "2025-01-06T11:55:56.086150Z"
    }
   },
   "outputs": [],
   "source": [
    "# it takes around 16 minutes to retreive all object data (in chunks)"
   ]
  },
  {
   "cell_type": "code",
   "execution_count": null,
   "id": "fc6449d2-18f8-4369-80ad-7ca4c53ed5e8",
   "metadata": {
    "execution": {
     "iopub.execute_input": "2025-01-06T11:55:56.091082Z",
     "iopub.status.busy": "2025-01-06T11:55:56.090479Z",
     "iopub.status.idle": "2025-01-06T11:55:59.701310Z",
     "shell.execute_reply": "2025-01-06T11:55:59.700366Z",
     "shell.execute_reply.started": "2025-01-06T11:55:56.091056Z"
    }
   },
   "outputs": [],
   "source": [
    "if os.path.isfile(fname_obj):\n",
    "    print(\"load {}\".format(fname_obj))\n",
    "    df_obj = pd.read_csv(fname_obj, index_col=0)\n",
    "else:\n",
    "    print(\"run query\")\n",
    "\n",
    "    # divide the query into chunks\n",
    "    ids = np.array(df_id[\"ssObjectId\"])\n",
    "    n = int(len(ids) / qry_chunk)\n",
    "    print(n)\n",
    "    list_ids = np.array_split(ids, n)\n",
    "\n",
    "    df_obj = pd.DataFrame()\n",
    "    for i, _ids in enumerate(list_ids):\n",
    "\n",
    "        print(\"{}/{}\".format(i, n))\n",
    "\n",
    "        # get all objects details\n",
    "        query = \"\"\"SELECT mpc.ssObjectId, mpc.e, mpc.q, mpc.mpcG, mpc.mpcH,\n",
    "                        sso.arc, sso.numObs,\n",
    "                        sso.g_H, sso.g_Herr, sso.g_G12, sso.g_G12err,\n",
    "                        sso.g_H_gG12_Cov, sso.g_Ndata, sso.r_H, sso.r_Herr,\n",
    "                        sso.r_G12, sso.r_G12err, sso.r_H_rG12_Cov, sso.r_Ndata,\n",
    "                        sso.i_H, sso.i_Herr, sso.i_G12, sso.i_G12err, sso.i_H_iG12_Cov,\n",
    "                        sso.i_Ndata, sso.z_H, sso.z_Herr, sso.z_G12, sso.z_G12err,\n",
    "                        sso.z_H_zG12_Cov, sso.z_Ndata\n",
    "                    FROM\n",
    "                        dp03_catalogs_10yr.MPCORB as mpc\n",
    "                        INNER JOIN dp03_catalogs_10yr.SSObject as sso\n",
    "                        ON mpc.ssObjectId = sso.ssObjectId\n",
    "                    WHERE\n",
    "                        sso.ssObjectId\n",
    "                        IN {}\n",
    "                    ORDER by sso.ssObjectId\n",
    "        \"\"\".format(\n",
    "            tuple(_ids)\n",
    "        )\n",
    "\n",
    "        # run the query\n",
    "        _df_obj = service.search(query).to_table().to_pandas()\n",
    "\n",
    "        # calculate semimajor axis\n",
    "        _df_obj[\"a\"] = _df_obj[\"q\"] / (1.0 - _df_obj[\"e\"])\n",
    "\n",
    "        df_obj = pd.concat([df_obj, _df_obj])\n",
    "\n",
    "    df_obj = df_obj.reset_index(drop=True)\n",
    "    print(\"save {}\".format(fname_obj))\n",
    "    df_obj.to_csv(fname_obj)"
   ]
  },
  {
   "cell_type": "code",
   "execution_count": null,
   "id": "0399adcb-b873-4dba-bece-c342e8a64318",
   "metadata": {
    "execution": {
     "iopub.execute_input": "2025-01-06T11:55:59.702562Z",
     "iopub.status.busy": "2025-01-06T11:55:59.702281Z",
     "iopub.status.idle": "2025-01-06T11:55:59.794156Z",
     "shell.execute_reply": "2025-01-06T11:55:59.793422Z",
     "shell.execute_reply.started": "2025-01-06T11:55:59.702540Z"
    }
   },
   "outputs": [],
   "source": [
    "df_obj"
   ]
  },
  {
   "cell_type": "code",
   "execution_count": null,
   "id": "9f068ccc-d684-4629-938d-a602979ea23a",
   "metadata": {
    "execution": {
     "iopub.execute_input": "2025-01-06T11:55:59.795386Z",
     "iopub.status.busy": "2025-01-06T11:55:59.795114Z",
     "iopub.status.idle": "2025-01-06T11:56:00.285944Z",
     "shell.execute_reply": "2025-01-06T11:56:00.285170Z",
     "shell.execute_reply.started": "2025-01-06T11:55:59.795363Z"
    }
   },
   "outputs": [],
   "source": [
    "x_plot = \"a\"\n",
    "y_plot = \"e\"\n",
    "\n",
    "mask = (df_obj[\"a\"] > 0) & (df_obj[\"a\"] < 6)\n",
    "df_plot = df_obj[mask]\n",
    "\n",
    "fig = plt.figure()\n",
    "gs = gridspec.GridSpec(1, 1)\n",
    "ax1 = plt.subplot(gs[0, 0])\n",
    "\n",
    "# ax1.scatter(df_plot[x_plot],df_plot[y_plot], rasterized =True)\n",
    "s1 = ax1.hist2d(df_plot[x_plot], df_plot[y_plot], bins=50, norm=colors.LogNorm())\n",
    "cbar1 = plt.colorbar(s1[3])\n",
    "\n",
    "ax1.set_xlabel(x_plot)\n",
    "ax1.set_ylabel(y_plot)\n",
    "cbar1.set_label(\"number\")\n",
    "\n",
    "plt.show()"
   ]
  },
  {
   "cell_type": "code",
   "execution_count": null,
   "id": "2f573948-2b3c-43b1-b90a-839da18820a6",
   "metadata": {
    "execution": {
     "iopub.execute_input": "2025-01-06T11:56:00.287318Z",
     "iopub.status.busy": "2025-01-06T11:56:00.287013Z",
     "iopub.status.idle": "2025-01-06T11:56:00.346034Z",
     "shell.execute_reply": "2025-01-06T11:56:00.345188Z",
     "shell.execute_reply.started": "2025-01-06T11:56:00.287293Z"
    }
   },
   "outputs": [],
   "source": [
    "# some objects are missing from MPCORB, they appear only in SSObject\n",
    "# these are spacecraft, with DiaSource.nameTrue beginning with ET\n",
    "df_missing = df_id[~np.isin(df_id[\"ssObjectId\"], df_obj[\"ssObjectId\"])]\n",
    "df_missing"
   ]
  },
  {
   "cell_type": "code",
   "execution_count": null,
   "id": "3640cc09-7730-409a-8b43-0a5a21c940a2",
   "metadata": {
    "execution": {
     "iopub.execute_input": "2025-01-06T11:56:00.347673Z",
     "iopub.status.busy": "2025-01-06T11:56:00.347279Z",
     "iopub.status.idle": "2025-01-06T11:56:03.388170Z",
     "shell.execute_reply": "2025-01-06T11:56:03.387180Z",
     "shell.execute_reply.started": "2025-01-06T11:56:00.347648Z"
    }
   },
   "outputs": [],
   "source": [
    "error_list = []\n",
    "N_tot = len(df_id)\n",
    "\n",
    "if not os.path.isfile(fname_sso):\n",
    "\n",
    "    for i, ssoid in enumerate(np.array(df_id[\"ssObjectId\"])):\n",
    "        # for i,ssoid in enumerate(np.array(df_missing[\"ssObjectId\"])):\n",
    "        # for i,ssoid in enumerate([496523111065891749]):\n",
    "        print(ssoid, \"{}/{}\".format(i, N_tot))\n",
    "\n",
    "        # get data from DP0.3 on RSP up to the night\n",
    "\n",
    "        query = \"\"\"\n",
    "        SELECT\n",
    "            *\n",
    "        FROM\n",
    "            dp03_catalogs_10yr.DiaSource as dia\n",
    "        INNER JOIN\n",
    "            dp03_catalogs_10yr.SSSource as sss\n",
    "        ON\n",
    "            dia.diaSourceId = sss.diaSourceId\n",
    "        WHERE\n",
    "            dia.ssObjectId={} \n",
    "            AND dia.midPointMjdTai < {}\n",
    "        ORDER by dia.midPointMjdTai\n",
    "        \"\"\".format(\n",
    "            ssoid, night + time_bounds\n",
    "        )\n",
    "\n",
    "        df_obs = service.search(query).to_table().to_pandas()\n",
    "        # print(len(df_obs),df_obj[df_obj[\"ssObjectId\"]==ssoid].iloc[0][\"numObs\"])\n",
    "\n",
    "        # calculate reduced mag\n",
    "        thdist = df_obs[\"topocentricDist\"] * df_obs[\"heliocentricDist\"]\n",
    "        df_obs[\"reduced_mag\"] = df_obs[\"mag\"] - 5.0 * np.log10(thdist)\n",
    "\n",
    "        # store required SSObject values\n",
    "        sso = {}\n",
    "        sso[\"ssObjectId\"] = ssoid\n",
    "        sso[\"arc\"] = np.ptp(df_obs[\"midPointMjdTai\"])\n",
    "        sso[\"numObs\"] = len(df_obs)\n",
    "        # also phaseAngle_max/min etc?\n",
    "\n",
    "        # fit phase curve to each filter\n",
    "        for filt in \"ugrizy\":\n",
    "            mask = df_obs[\"band\"] == filt\n",
    "            _df_obs = df_obs[mask]\n",
    "            _N = len(_df_obs)\n",
    "            # print(filt,_N)\n",
    "\n",
    "            sso[\"{}_Ndata\".format(filt)] = _N\n",
    "\n",
    "            if _N < N_min:\n",
    "                sso[\"{}_G12\".format(filt)] = np.nan\n",
    "                sso[\"{}_G12Err\".format(filt)] = np.nan\n",
    "                sso[\"{}_H\".format(filt)] = np.nan\n",
    "                sso[\"{}_HErr\".format(filt)] = np.nan\n",
    "            else:\n",
    "                model = HG12_Pen16(H=np.amin(_df_obs[\"reduced_mag\"]), G12=G12_start)\n",
    "                # print(model)\n",
    "                try:\n",
    "                    model_fit = fitter(\n",
    "                        model,\n",
    "                        np.radians(_df_obs[\"phaseAngle\"]),\n",
    "                        np.array(_df_obs[\"reduced_mag\"]),\n",
    "                        weights=1.0 / np.array(_df_obs[\"magErr\"]),\n",
    "                    )\n",
    "                except:\n",
    "                    print(\"{} fit error\".format(ssoid))\n",
    "                    sso[\"{}_G12\".format(filt)] = np.nan\n",
    "                    sso[\"{}_G12Err\".format(filt)] = np.nan\n",
    "                    sso[\"{}_H\".format(filt)] = np.nan\n",
    "                    sso[\"{}_HErr\".format(filt)] = np.nan\n",
    "                    error_list.append(ssoid)\n",
    "                    continue\n",
    "\n",
    "                # print(model_fit)\n",
    "                covariance = fitter.fit_info[\"param_cov\"]\n",
    "                fit_errs = np.sqrt(np.diag(covariance))\n",
    "                # print(model_fit.param_names)\n",
    "\n",
    "                sso[\"{}_G12\".format(filt)] = model_fit.G12.value\n",
    "                sso[\"{}_G12Err\".format(filt)] = fit_errs[1]\n",
    "                sso[\"{}_H\".format(filt)] = model_fit.H.value\n",
    "                sso[\"{}_HErr\".format(filt)] = fit_errs[0]\n",
    "\n",
    "        if len(sso) != 33:\n",
    "            print(\"{} error\".format(ssoid))\n",
    "            error_list.append(ssoid)\n",
    "            continue\n",
    "\n",
    "        # save the data to file\n",
    "        # print(sso)\n",
    "        df_sso = pd.DataFrame([sso])\n",
    "        if i == 0:\n",
    "            df_sso.to_csv(fname_sso)\n",
    "        else:\n",
    "            df_sso.to_csv(fname_sso, mode=\"a\", header=False)\n",
    "\n",
    "        # print(df_obs.iloc[0][\"nameTrue\"])\n",
    "\n",
    "        # if i>5:\n",
    "        #     break\n",
    "\n",
    "df_sso = pd.read_csv(fname_sso, index_col=0).reset_index(drop=True)"
   ]
  },
  {
   "cell_type": "code",
   "execution_count": null,
   "id": "e2d38b8f-53b4-47d4-bfc0-47e4237e110b",
   "metadata": {
    "execution": {
     "iopub.execute_input": "2025-01-06T11:56:03.389770Z",
     "iopub.status.busy": "2025-01-06T11:56:03.389449Z",
     "iopub.status.idle": "2025-01-06T11:56:03.395116Z",
     "shell.execute_reply": "2025-01-06T11:56:03.394145Z",
     "shell.execute_reply.started": "2025-01-06T11:56:03.389743Z"
    }
   },
   "outputs": [],
   "source": [
    "error_list"
   ]
  },
  {
   "cell_type": "code",
   "execution_count": null,
   "id": "83f77a51-369c-47bb-9de5-ffe160223c13",
   "metadata": {
    "execution": {
     "iopub.execute_input": "2025-01-06T11:56:03.396650Z",
     "iopub.status.busy": "2025-01-06T11:56:03.396328Z",
     "iopub.status.idle": "2025-01-06T11:56:03.533015Z",
     "shell.execute_reply": "2025-01-06T11:56:03.531955Z",
     "shell.execute_reply.started": "2025-01-06T11:56:03.396619Z"
    }
   },
   "outputs": [],
   "source": [
    "df_sso"
   ]
  },
  {
   "cell_type": "code",
   "execution_count": null,
   "id": "2802ad4a-c56d-4b2f-9adc-3995cb1806da",
   "metadata": {
    "execution": {
     "iopub.execute_input": "2025-01-06T11:56:03.534388Z",
     "iopub.status.busy": "2025-01-06T11:56:03.534098Z",
     "iopub.status.idle": "2025-01-06T11:56:04.855659Z",
     "shell.execute_reply": "2025-01-06T11:56:04.854618Z",
     "shell.execute_reply.started": "2025-01-06T11:56:03.534354Z"
    }
   },
   "outputs": [],
   "source": [
    "# x_plot = \"numObs\"\n",
    "y_plot = \"number\"\n",
    "df_plot = df_sso\n",
    "df_plot2 = df_obj\n",
    "n_bins = 100\n",
    "\n",
    "for x_plot in [\"numObs\", \"r_H\", \"r_G12\"]:\n",
    "    fig = plt.figure()\n",
    "    gs = gridspec.GridSpec(1, 1)\n",
    "    ax1 = plt.subplot(gs[0, 0])\n",
    "\n",
    "    if \"G12\" in x_plot:\n",
    "        bins = np.linspace(-1.0, 1.5, n_bins)\n",
    "        ax1.axvline(0.2, c=\"r\")\n",
    "    else:\n",
    "        bins = n_bins\n",
    "\n",
    "    ax1.hist(df_plot[x_plot], bins=bins, histtype=\"step\", label=\"df_sso\")\n",
    "    ax1.hist(df_plot2[x_plot], bins=bins, histtype=\"step\", label=\"df_obj\")\n",
    "\n",
    "    ax1.set_xlabel(x_plot)\n",
    "    ax1.set_ylabel(y_plot)\n",
    "    ax1.legend()\n",
    "\n",
    "    ax1.set_yscale(\"log\")\n",
    "\n",
    "    plt.show()"
   ]
  },
  {
   "cell_type": "code",
   "execution_count": null,
   "id": "458922d0-dc24-418f-bf9d-bbb4c6f160d1",
   "metadata": {
    "execution": {
     "iopub.execute_input": "2025-01-06T11:56:04.857048Z",
     "iopub.status.busy": "2025-01-06T11:56:04.856763Z",
     "iopub.status.idle": "2025-01-06T11:56:04.861252Z",
     "shell.execute_reply": "2025-01-06T11:56:04.860327Z",
     "shell.execute_reply.started": "2025-01-06T11:56:04.857025Z"
    }
   },
   "outputs": [],
   "source": [
    "# df_sso has a peak of objects with r_H~7, these are TNOs that have only r_H = nan in df_obj?"
   ]
  },
  {
   "cell_type": "code",
   "execution_count": null,
   "id": "3a6330c3-5af3-4bab-a5a1-82ea8addb370",
   "metadata": {
    "execution": {
     "iopub.execute_input": "2025-01-06T11:56:04.862666Z",
     "iopub.status.busy": "2025-01-06T11:56:04.862372Z",
     "iopub.status.idle": "2025-01-06T11:56:04.876080Z",
     "shell.execute_reply": "2025-01-06T11:56:04.875054Z",
     "shell.execute_reply.started": "2025-01-06T11:56:04.862642Z"
    }
   },
   "outputs": [],
   "source": [
    "# there is a peak in df_obj at r_G12=0.2 (or very close to 0.2)"
   ]
  },
  {
   "cell_type": "code",
   "execution_count": null,
   "id": "e015e86f-f236-411f-a78c-b70f15acd117",
   "metadata": {
    "execution": {
     "iopub.execute_input": "2025-01-06T11:56:04.880511Z",
     "iopub.status.busy": "2025-01-06T11:56:04.880173Z",
     "iopub.status.idle": "2025-01-06T11:56:04.889194Z",
     "shell.execute_reply": "2025-01-06T11:56:04.887866Z",
     "shell.execute_reply.started": "2025-01-06T11:56:04.880485Z"
    }
   },
   "outputs": [],
   "source": [
    "# df_obj[df_obj[\"r_G12\"]==0.2]"
   ]
  },
  {
   "cell_type": "code",
   "execution_count": null,
   "id": "ab15eec9-6633-4f7c-b023-5215ca88189c",
   "metadata": {
    "execution": {
     "iopub.execute_input": "2025-01-06T11:56:04.890662Z",
     "iopub.status.busy": "2025-01-06T11:56:04.890338Z",
     "iopub.status.idle": "2025-01-06T11:56:04.904923Z",
     "shell.execute_reply": "2025-01-06T11:56:04.903927Z",
     "shell.execute_reply.started": "2025-01-06T11:56:04.890632Z"
    }
   },
   "outputs": [],
   "source": [
    "# fig = plt.figure()\n",
    "# gs = gridspec.GridSpec(1,1)\n",
    "# ax1 = plt.subplot(gs[0,0])\n",
    "\n",
    "# x = np.array(df_obj.loc[np.argsort(np.abs(np.array(df_obj[\"r_G12\"])-0.2))].dropna(subset=[\"r_G12\"])[\"r_G12\"])[:5000]\n",
    "# ax1.plot(np.arange(len(x)),x)\n",
    "\n",
    "# plt.show()"
   ]
  },
  {
   "cell_type": "code",
   "execution_count": null,
   "id": "ae430930-fc5c-43cc-b105-1a08965aa1c7",
   "metadata": {
    "execution": {
     "iopub.execute_input": "2025-01-06T11:56:04.906505Z",
     "iopub.status.busy": "2025-01-06T11:56:04.906194Z",
     "iopub.status.idle": "2025-01-06T11:56:04.992015Z",
     "shell.execute_reply": "2025-01-06T11:56:04.990866Z",
     "shell.execute_reply.started": "2025-01-06T11:56:04.906480Z"
    }
   },
   "outputs": [],
   "source": [
    "np.argsort(np.array(df_obj[\"r_G12\"]) - 0.2)"
   ]
  },
  {
   "cell_type": "code",
   "execution_count": null,
   "id": "4f249404-5eff-4804-a7d2-38905dd3985d",
   "metadata": {
    "execution": {
     "iopub.execute_input": "2025-01-06T11:56:04.993828Z",
     "iopub.status.busy": "2025-01-06T11:56:04.993378Z",
     "iopub.status.idle": "2025-01-06T11:56:05.282330Z",
     "shell.execute_reply": "2025-01-06T11:56:05.281428Z",
     "shell.execute_reply.started": "2025-01-06T11:56:04.993789Z"
    }
   },
   "outputs": [],
   "source": [
    "df_obj.loc[np.argsort(np.abs(np.array(df_obj[\"r_G12\"]) - 0.2))].dropna(subset=[\"r_G12\"])[\"r_G12\"]"
   ]
  },
  {
   "cell_type": "code",
   "execution_count": null,
   "id": "e72302c7-85e5-4214-8a39-ae98764832a2",
   "metadata": {
    "execution": {
     "iopub.execute_input": "2025-01-06T11:56:05.283828Z",
     "iopub.status.busy": "2025-01-06T11:56:05.283398Z",
     "iopub.status.idle": "2025-01-06T11:56:05.587097Z",
     "shell.execute_reply": "2025-01-06T11:56:05.585881Z",
     "shell.execute_reply.started": "2025-01-06T11:56:05.283791Z"
    }
   },
   "outputs": [],
   "source": [
    "# merge to get all matches between dataframes\n",
    "df_sso_obj = df_sso.merge(df_obj, on=\"ssObjectId\", suffixes=[\"_sso\", \"_obj\"])"
   ]
  },
  {
   "cell_type": "code",
   "execution_count": null,
   "id": "5af8f58e-e139-40a3-b2bb-dbf7950a4a40",
   "metadata": {
    "execution": {
     "iopub.execute_input": "2025-01-06T11:56:05.588740Z",
     "iopub.status.busy": "2025-01-06T11:56:05.588432Z",
     "iopub.status.idle": "2025-01-06T11:56:06.870545Z",
     "shell.execute_reply": "2025-01-06T11:56:06.869733Z",
     "shell.execute_reply.started": "2025-01-06T11:56:05.588714Z"
    }
   },
   "outputs": [],
   "source": [
    "# compare matched values\n",
    "df_plot = df_sso_obj\n",
    "print(len(df_plot))\n",
    "\n",
    "for x_plot in [\"numObs\", \"r_H\", \"r_G12\"]:\n",
    "    fig = plt.figure()\n",
    "    gs = gridspec.GridSpec(1, 1)\n",
    "    ax1 = plt.subplot(gs[0, 0])\n",
    "\n",
    "    ax1.scatter(df_plot[\"{}_sso\".format(x_plot)], df_plot[\"{}_obj\".format(x_plot)], s=1)\n",
    "\n",
    "    ax1.plot(\n",
    "        [np.amin(df_plot[\"{}_sso\".format(x_plot)]), np.amax(df_plot[\"{}_sso\".format(x_plot)])],\n",
    "        [np.amin(df_plot[\"{}_sso\".format(x_plot)]), np.amax(df_plot[\"{}_sso\".format(x_plot)])],\n",
    "        c=\"r\",\n",
    "    )\n",
    "\n",
    "    ax1.set_xlabel(\"df_sso {}\".format(x_plot))\n",
    "    ax1.set_ylabel(\"df_obj {}\".format(x_plot))\n",
    "\n",
    "    if \"G12\" in x_plot:\n",
    "        _df_plot = df_plot.dropna(subset=[\"{}_sso\".format(x_plot), \"{}_obj\".format(x_plot)])\n",
    "        _df_plot = _df_plot[\n",
    "            (_df_plot[\"{}_obj\".format(x_plot)] > -1.0) & (_df_plot[\"{}_obj\".format(x_plot)] < 2.0)\n",
    "        ]\n",
    "        print(len(_df_plot))\n",
    "        ax1.hist2d(\n",
    "            _df_plot[\"{}_sso\".format(x_plot)],\n",
    "            _df_plot[\"{}_obj\".format(x_plot)],\n",
    "            bins=100,\n",
    "            # zorder = 0,\n",
    "            norm=colors.LogNorm(),\n",
    "        )\n",
    "\n",
    "        # ax1.set_ylim(-2,2)\n",
    "        ax1.axhline(0.2, c=\"r\", ls=\":\")\n",
    "\n",
    "    plt.show()"
   ]
  },
  {
   "cell_type": "code",
   "execution_count": null,
   "id": "fd726932-83e7-4e36-9c19-a17f9c090be3",
   "metadata": {
    "execution": {
     "iopub.execute_input": "2025-01-06T11:56:06.871897Z",
     "iopub.status.busy": "2025-01-06T11:56:06.871599Z",
     "iopub.status.idle": "2025-01-06T11:56:06.875752Z",
     "shell.execute_reply": "2025-01-06T11:56:06.874847Z",
     "shell.execute_reply.started": "2025-01-06T11:56:06.871873Z"
    }
   },
   "outputs": [],
   "source": [
    "# df_sso finds some objects with much brighter r_H than df_obj - bad phase angle coverage?"
   ]
  },
  {
   "cell_type": "code",
   "execution_count": null,
   "id": "3cce8fe4-a516-4a96-9de8-abf2a72f59df",
   "metadata": {
    "execution": {
     "iopub.execute_input": "2025-01-06T11:56:06.877075Z",
     "iopub.status.busy": "2025-01-06T11:56:06.876800Z",
     "iopub.status.idle": "2025-01-06T11:56:06.927727Z",
     "shell.execute_reply": "2025-01-06T11:56:06.926879Z",
     "shell.execute_reply.started": "2025-01-06T11:56:06.877053Z"
    }
   },
   "outputs": [],
   "source": [
    "df_sso_obj[np.abs(df_sso_obj[\"r_H_sso\"] - df_sso_obj[\"r_H_obj\"]) > 10]"
   ]
  },
  {
   "cell_type": "code",
   "execution_count": null,
   "id": "eee6f9a6-dff2-4080-8687-6d8671ac768f",
   "metadata": {
    "execution": {
     "iopub.execute_input": "2025-01-06T11:56:06.929087Z",
     "iopub.status.busy": "2025-01-06T11:56:06.928779Z",
     "iopub.status.idle": "2025-01-06T11:56:06.952968Z",
     "shell.execute_reply": "2025-01-06T11:56:06.951975Z",
     "shell.execute_reply.started": "2025-01-06T11:56:06.929049Z"
    }
   },
   "outputs": [],
   "source": [
    "df_sso[df_sso[\"r_H\"] < 5]"
   ]
  },
  {
   "cell_type": "code",
   "execution_count": null,
   "id": "3a79ee9c-4dbd-4e18-849f-0c864c9ae13b",
   "metadata": {
    "execution": {
     "iopub.execute_input": "2025-01-06T11:56:06.954481Z",
     "iopub.status.busy": "2025-01-06T11:56:06.954177Z",
     "iopub.status.idle": "2025-01-06T11:56:08.103095Z",
     "shell.execute_reply": "2025-01-06T11:56:08.101988Z",
     "shell.execute_reply.started": "2025-01-06T11:56:06.954453Z"
    }
   },
   "outputs": [],
   "source": [
    "# ssoid=\"-7355493384868583834\" # TNO - no fit in df_obj\n",
    "# ssoid = \"5903260517146040230\" # No low phase angle coverage?\n",
    "ssoid = \"496523111065891749\"  # just a chill guy\n",
    "\n",
    "# query = \"\"\"\n",
    "# SELECT\n",
    "#     *\n",
    "# FROM\n",
    "#     dp03_catalogs_10yr.DiaSource as dia\n",
    "# INNER JOIN\n",
    "#     dp03_catalogs_10yr.SSSource as sss\n",
    "# ON\n",
    "#     dia.diaSourceId = sss.diaSourceId\n",
    "# WHERE\n",
    "#     dia.ssObjectId={}\n",
    "# ORDER by dia.midPointMjdTai\n",
    "# \"\"\".format(\n",
    "#     ssoid\n",
    "# )\n",
    "\n",
    "query = \"\"\"\n",
    "SELECT\n",
    "    *\n",
    "FROM\n",
    "    dp03_catalogs_10yr.DiaSource as dia\n",
    "INNER JOIN\n",
    "    dp03_catalogs_10yr.SSSource as sss\n",
    "ON\n",
    "    dia.diaSourceId = sss.diaSourceId\n",
    "WHERE\n",
    "    dia.ssObjectId={} \n",
    "    AND dia.midPointMjdTai < {}\n",
    "ORDER by dia.midPointMjdTai\n",
    "\"\"\".format(\n",
    "    ssoid, night + time_bounds\n",
    ")\n",
    "\n",
    "df_obs = service.search(query).to_table().to_pandas()\n",
    "# print(len(df_obs),df_obj[df_obj[\"ssObjectId\"]==ssoid].iloc[0][\"numObs\"])\n",
    "\n",
    "# calculate reduced mag\n",
    "thdist = df_obs[\"topocentricDist\"] * df_obs[\"heliocentricDist\"]\n",
    "df_obs[\"reduced_mag\"] = df_obs[\"mag\"] - 5.0 * np.log10(thdist)"
   ]
  },
  {
   "cell_type": "code",
   "execution_count": null,
   "id": "db42e25e-a9bf-4188-8586-d1ba564b254e",
   "metadata": {
    "execution": {
     "iopub.execute_input": "2025-01-06T11:56:08.104531Z",
     "iopub.status.busy": "2025-01-06T11:56:08.104255Z",
     "iopub.status.idle": "2025-01-06T11:56:08.110372Z",
     "shell.execute_reply": "2025-01-06T11:56:08.109527Z",
     "shell.execute_reply.started": "2025-01-06T11:56:08.104510Z"
    }
   },
   "outputs": [],
   "source": [
    "df_obs.columns"
   ]
  },
  {
   "cell_type": "code",
   "execution_count": null,
   "id": "fbc38bf4-9115-4701-82bb-1e7157ab30d3",
   "metadata": {
    "execution": {
     "iopub.execute_input": "2025-01-06T11:56:08.111741Z",
     "iopub.status.busy": "2025-01-06T11:56:08.111440Z",
     "iopub.status.idle": "2025-01-06T11:56:08.128071Z",
     "shell.execute_reply": "2025-01-06T11:56:08.127115Z",
     "shell.execute_reply.started": "2025-01-06T11:56:08.111717Z"
    }
   },
   "outputs": [],
   "source": [
    "df_obj.columns"
   ]
  },
  {
   "cell_type": "code",
   "execution_count": null,
   "id": "69972c5f-181f-4a05-81ad-46cfeaf35210",
   "metadata": {
    "execution": {
     "iopub.execute_input": "2025-01-06T11:56:08.129412Z",
     "iopub.status.busy": "2025-01-06T11:56:08.129133Z",
     "iopub.status.idle": "2025-01-06T11:56:08.785973Z",
     "shell.execute_reply": "2025-01-06T11:56:08.785154Z",
     "shell.execute_reply.started": "2025-01-06T11:56:08.129391Z"
    }
   },
   "outputs": [],
   "source": [
    "x_plot = \"phaseAngle\"\n",
    "y_plot = \"reduced_mag\"\n",
    "yerr_plot = \"magErr\"\n",
    "df_plot = df_obs\n",
    "df_plot2 = df_sso[df_sso[\"ssObjectId\"] == df_obs.iloc[0][\"ssObjectId\"]]\n",
    "df_plot3 = df_obj[df_obj[\"ssObjectId\"] == df_obs.iloc[0][\"ssObjectId\"]]\n",
    "\n",
    "print(df_plot.iloc[0][\"nameTrue\"])\n",
    "print(df_plot3[[\"a\", \"e\", \"q\"]])\n",
    "\n",
    "fig = plt.figure()\n",
    "gs = gridspec.GridSpec(1, 1)\n",
    "ax1 = plt.subplot(gs[0, 0])\n",
    "\n",
    "# ax1.scatter(df_plot[x_plot],df_plot[y_plot])\n",
    "\n",
    "alpha = np.linspace(0, np.amax(df_plot[x_plot]))\n",
    "\n",
    "for i, filt in enumerate(np.unique(df_obs[\"band\"])):\n",
    "    mask = df_plot[\"band\"] == filt\n",
    "    _df_plot = df_plot[mask]\n",
    "    ax1.errorbar(\n",
    "        _df_plot[x_plot],\n",
    "        _df_plot[y_plot],\n",
    "        _df_plot[yerr_plot],\n",
    "        # label = filt,\n",
    "        fmt=\"o\",\n",
    "        c=\"C{}\".format(i),\n",
    "    )\n",
    "\n",
    "    model = HG12_Pen16(H=df_plot2.iloc[0][\"{}_H\".format(filt)], G12=df_plot2.iloc[0][\"{}_G12\".format(filt)])\n",
    "    ax1.plot(\n",
    "        alpha,\n",
    "        model(np.radians(alpha)),\n",
    "        label=\"{}:H={:.3f},G12={:.3f}\".format(filt, model.H.value, model.G12.value),\n",
    "        c=\"C{}\".format(i),\n",
    "    )\n",
    "\n",
    "    model = HG12_Pen16(H=df_plot3.iloc[0][\"{}_H\".format(filt)], G12=df_plot3.iloc[0][\"{}_G12\".format(filt)])\n",
    "    ax1.plot(\n",
    "        alpha,\n",
    "        model(np.radians(alpha)),\n",
    "        ls=\":\",\n",
    "        label=\"{}:H={:.3f},G12={:.3f}\".format(filt, model.H.value, model.G12.value),\n",
    "        c=\"C{}\".format(i),\n",
    "    )\n",
    "\n",
    "ax1.set_xlabel(x_plot)\n",
    "ax1.set_ylabel(y_plot)\n",
    "ax1.legend()\n",
    "plt.title(ssoid)\n",
    "\n",
    "ax1.invert_yaxis()\n",
    "\n",
    "plt.show()"
   ]
  },
  {
   "cell_type": "code",
   "execution_count": null,
   "id": "205358c9-5d5a-4730-917c-886c0ab8818f",
   "metadata": {
    "execution": {
     "iopub.execute_input": "2025-01-06T11:56:08.787637Z",
     "iopub.status.busy": "2025-01-06T11:56:08.787336Z",
     "iopub.status.idle": "2025-01-06T11:56:08.791949Z",
     "shell.execute_reply": "2025-01-06T11:56:08.790736Z",
     "shell.execute_reply.started": "2025-01-06T11:56:08.787614Z"
    }
   },
   "outputs": [],
   "source": [
    "# use adler command to create the adler database\n",
    "# use only the data before the test night"
   ]
  },
  {
   "cell_type": "code",
   "execution_count": null,
   "id": "a5996253-da66-4a73-a73f-5a1f70a347c7",
   "metadata": {
    "execution": {
     "iopub.execute_input": "2025-01-06T11:56:08.793517Z",
     "iopub.status.busy": "2025-01-06T11:56:08.793131Z",
     "iopub.status.idle": "2025-01-06T11:56:08.809517Z",
     "shell.execute_reply": "2025-01-06T11:56:08.808387Z",
     "shell.execute_reply.started": "2025-01-06T11:56:08.793477Z"
    }
   },
   "outputs": [],
   "source": [
    "night - time_bounds"
   ]
  },
  {
   "cell_type": "code",
   "execution_count": null,
   "id": "be376c51-b405-4523-a054-cb4e0c163766",
   "metadata": {
    "execution": {
     "iopub.execute_input": "2025-01-06T11:58:04.252515Z",
     "iopub.status.busy": "2025-01-06T11:58:04.251783Z",
     "iopub.status.idle": "2025-01-06T11:58:04.257376Z",
     "shell.execute_reply": "2025-01-06T11:58:04.256012Z",
     "shell.execute_reply.started": "2025-01-06T11:58:04.252474Z"
    }
   },
   "outputs": [],
   "source": [
    "adler_data_db = \"adler_data_{}.db\".format(night)"
   ]
  },
  {
   "cell_type": "code",
   "execution_count": null,
   "id": "146efd71-5b7f-4a11-9d85-391dd1dcebae",
   "metadata": {
    "execution": {
     "iopub.execute_input": "2025-01-06T11:58:04.716044Z",
     "iopub.status.busy": "2025-01-06T11:58:04.715600Z",
     "iopub.status.idle": "2025-01-06T11:58:04.722463Z",
     "shell.execute_reply": "2025-01-06T11:58:04.721518Z",
     "shell.execute_reply.started": "2025-01-06T11:58:04.716003Z"
    }
   },
   "outputs": [],
   "source": [
    "cmd = \"adler -s {} -n {} -d 60000.0 {} -np\".format(ssoid, adler_data_db, night - time_bounds)\n",
    "# cmd+=\" -i /Users/jrobinson/lsst-adler/notebooks/gen_test_data/adler_demo_testing_database.db\"\n",
    "cmd"
   ]
  },
  {
   "cell_type": "code",
   "execution_count": null,
   "id": "5348db29-8182-4683-83e6-82eba3cc47bc",
   "metadata": {
    "execution": {
     "iopub.execute_input": "2025-01-06T11:58:05.510410Z",
     "iopub.status.busy": "2025-01-06T11:58:05.509934Z",
     "iopub.status.idle": "2025-01-06T11:58:05.517161Z",
     "shell.execute_reply": "2025-01-06T11:58:05.516114Z",
     "shell.execute_reply.started": "2025-01-06T11:58:05.510369Z"
    }
   },
   "outputs": [],
   "source": [
    "conn = sqlite3.connect(adler_data_db)"
   ]
  },
  {
   "cell_type": "code",
   "execution_count": null,
   "id": "6fdd8dc0-529d-464c-8c1a-015c2c1cd09b",
   "metadata": {
    "execution": {
     "iopub.execute_input": "2025-01-06T11:58:06.945179Z",
     "iopub.status.busy": "2025-01-06T11:58:06.944329Z",
     "iopub.status.idle": "2025-01-06T11:58:06.956894Z",
     "shell.execute_reply": "2025-01-06T11:58:06.955647Z",
     "shell.execute_reply.started": "2025-01-06T11:58:06.945138Z"
    }
   },
   "outputs": [],
   "source": [
    "df_ad = pd.read_sql(\"select * from AdlerData limit 1;\", conn)"
   ]
  },
  {
   "cell_type": "code",
   "execution_count": null,
   "id": "ea8170fa-ec27-4f2a-a7e3-6e2bb305bdf3",
   "metadata": {
    "execution": {
     "iopub.execute_input": "2025-01-06T11:58:09.169347Z",
     "iopub.status.busy": "2025-01-06T11:58:09.168857Z",
     "iopub.status.idle": "2025-01-06T11:58:09.193703Z",
     "shell.execute_reply": "2025-01-06T11:58:09.192844Z",
     "shell.execute_reply.started": "2025-01-06T11:58:09.169308Z"
    }
   },
   "outputs": [],
   "source": [
    "df_ad"
   ]
  },
  {
   "cell_type": "code",
   "execution_count": null,
   "id": "635dc3a6-ff59-4832-8912-68c9beae9661",
   "metadata": {},
   "outputs": [],
   "source": []
  }
 ],
 "metadata": {
  "kernelspec": {
   "display_name": "adler-dev",
   "language": "python",
   "name": "adler-dev"
  },
  "language_info": {
   "codemirror_mode": {
    "name": "ipython",
    "version": 3
   },
   "file_extension": ".py",
   "mimetype": "text/x-python",
   "name": "python",
   "nbconvert_exporter": "python",
   "pygments_lexer": "ipython3",
   "version": "3.10.14"
  }
 },
 "nbformat": 4,
 "nbformat_minor": 5
}
