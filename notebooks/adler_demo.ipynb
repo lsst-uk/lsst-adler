{
 "cells": [
  {
   "cell_type": "code",
   "execution_count": null,
   "id": "7fafdbd9",
   "metadata": {},
   "outputs": [],
   "source": [
    "from adler.objectdata.AdlerPlanetoid import AdlerPlanetoid\n",
    "from adler.science.PhaseCurve import PhaseCurve\n",
    "from adler.objectdata.AdlerData import AdlerData\n",
    "from adler.utilities.plotting_utilities import plot_errorbar\n",
    "import adler.utilities.science_utilities as sci_utils\n",
    "\n",
    "import numpy as np\n",
    "import pandas as pd\n",
    "import matplotlib.pyplot as plt\n",
    "import matplotlib.gridspec as gridspec\n",
    "import astropy.units as u"
   ]
  },
  {
   "cell_type": "code",
   "execution_count": null,
   "id": "b9b8d9be",
   "metadata": {},
   "outputs": [],
   "source": [
    "# ssoid = \"6098332225018\"  # good test object\n",
    "ssoid = \"8268570668335894776\"  # NEO\n",
    "\n",
    "fname = \"/Users/jrobinson/lsst-adler/notebooks/gen_test_data/adler_demo_testing_database.db\"\n",
    "planetoid = AdlerPlanetoid.construct_from_SQL(ssoid, sql_filename=fname)"
   ]
  },
  {
   "cell_type": "code",
   "execution_count": null,
   "id": "dfca7299",
   "metadata": {},
   "outputs": [],
   "source": [
    "planetoid.__dict__"
   ]
  },
  {
   "cell_type": "code",
   "execution_count": null,
   "id": "3639679e",
   "metadata": {},
   "outputs": [],
   "source": [
    "planetoid.MPCORB"
   ]
  },
  {
   "cell_type": "code",
   "execution_count": null,
   "id": "334fd033",
   "metadata": {},
   "outputs": [],
   "source": [
    "filters = planetoid.filter_list"
   ]
  },
  {
   "cell_type": "code",
   "execution_count": null,
   "id": "960ee095",
   "metadata": {},
   "outputs": [],
   "source": [
    "# get all obs as dataframe\n",
    "df_obs = pd.DataFrame()\n",
    "for filt in filters:\n",
    "    obs = planetoid.observations_in_filter(filt)\n",
    "    _df_obs = pd.DataFrame(obs.__dict__)\n",
    "    df_obs = pd.concat([df_obs, _df_obs])\n",
    "    df_obs = df_obs.reset_index(drop=True)\n",
    "#     break"
   ]
  },
  {
   "cell_type": "code",
   "execution_count": null,
   "id": "6f188ab5",
   "metadata": {},
   "outputs": [],
   "source": [
    "df_obs"
   ]
  },
  {
   "cell_type": "code",
   "execution_count": null,
   "id": "8a0f5291",
   "metadata": {},
   "outputs": [],
   "source": [
    "tmin = np.amin(np.floor(df_obs[\"midPointMjdTai\"]))  # mjd\n",
    "tmax = np.amax(np.floor(df_obs[\"midPointMjdTai\"])) + 1  # mjd\n",
    "tmin, tmax"
   ]
  },
  {
   "cell_type": "code",
   "execution_count": null,
   "id": "0a293038",
   "metadata": {},
   "outputs": [],
   "source": [
    "# cumulative data in filter\n",
    "x_plot = \"midPointMjdTai\"\n",
    "df_plot = df_obs.sort_values(x_plot)\n",
    "\n",
    "fig = plt.figure()\n",
    "gs = gridspec.GridSpec(1, 1)\n",
    "ax1 = plt.subplot(gs[0, 0])\n",
    "\n",
    "bins = np.arange(tmin, tmax + 1)\n",
    "\n",
    "values, base = np.histogram(df_plot[x_plot], bins=bins)\n",
    "cumulative = np.cumsum(values)\n",
    "ax1.plot(base[:-1] - base[0], cumulative)\n",
    "\n",
    "data_mask = np.diff(cumulative) > 0\n",
    "data_nights = base[1:-1][data_mask]\n",
    "N_data = cumulative[1:][data_mask]\n",
    "\n",
    "ax1.scatter(data_nights - data_nights[0], N_data)\n",
    "\n",
    "ax1.set_xlabel(x_plot)\n",
    "ax1.set_ylabel(\"number\")\n",
    "\n",
    "plt.show()"
   ]
  },
  {
   "cell_type": "code",
   "execution_count": null,
   "id": "09c7d0cb",
   "metadata": {},
   "outputs": [],
   "source": [
    "data_nights"
   ]
  },
  {
   "cell_type": "code",
   "execution_count": null,
   "id": "d57a9e80",
   "metadata": {},
   "outputs": [],
   "source": [
    "N_data"
   ]
  },
  {
   "cell_type": "code",
   "execution_count": null,
   "id": "504569cb",
   "metadata": {},
   "outputs": [],
   "source": [
    "# create the empty AdlerData object\n",
    "adler_data = AdlerData(ssoid, planetoid.filter_list)\n",
    "adler_data"
   ]
  },
  {
   "cell_type": "code",
   "execution_count": null,
   "id": "87a6de72",
   "metadata": {},
   "outputs": [],
   "source": [
    "planetoid.SSObject"
   ]
  },
  {
   "cell_type": "code",
   "execution_count": null,
   "id": "8de34419",
   "metadata": {},
   "outputs": [],
   "source": [
    "planetoid.SSObject_in_filter(\"r\")"
   ]
  },
  {
   "cell_type": "code",
   "execution_count": null,
   "id": "cd3e6491",
   "metadata": {},
   "outputs": [],
   "source": [
    "# TODO: we need a translation between planetoid.SSObject attributes and AdlerData attributes\n",
    "ADLER_SSOBJECT = {\"phase_parameter_1\": \"G12\"}\n",
    "SSOBJECT_ADLER = {v: k for k, v in ADLER_SSOBJECT.items()}"
   ]
  },
  {
   "cell_type": "code",
   "execution_count": null,
   "id": "71776f60",
   "metadata": {},
   "outputs": [],
   "source": [
    "ADLER_SSOBJECT, SSOBJECT_ADLER"
   ]
  },
  {
   "cell_type": "code",
   "execution_count": null,
   "id": "c74ef722",
   "metadata": {},
   "outputs": [],
   "source": [
    "sso_r = planetoid.SSObject_in_filter(\"r\")\n",
    "sso_r.H, sso_r.G12"
   ]
  },
  {
   "cell_type": "code",
   "execution_count": null,
   "id": "0d979da6",
   "metadata": {},
   "outputs": [],
   "source": [
    "N_pc_fit = 25  # minimum number of observations to fit phase curve parameter (otherwise just fit H)\n",
    "mod_name = \"HG12_Pen16\"  # model name\n",
    "\n",
    "# create the empty AdlerData object\n",
    "adler_data = AdlerData(ssoid, planetoid.filter_list)\n",
    "\n",
    "ad_params_list = []\n",
    "\n",
    "for n in data_nights:\n",
    "    print(n)\n",
    "    df_n = df_obs[df_obs[\"midPointMjdTai\"] < n]\n",
    "    print(len(df_n), np.unique(df_n[\"filter_name\"]))\n",
    "    print(df_n.value_counts(\"filter_name\"))\n",
    "    #     break\n",
    "\n",
    "    for filt in np.unique(df_n[\"filter_name\"]):\n",
    "        _df_n = df_n[df_n[\"filter_name\"] == filt]\n",
    "        print(filt, len(_df_n))\n",
    "\n",
    "        # Try get parameters from AdlerData otherwise, use the SSObject parameters from alert\n",
    "        try:\n",
    "            params = adler_data.get_phase_parameters_in_filter(filt, model_name=mod_name)\n",
    "            print(\"use AdlerData parameters\")\n",
    "            phase_parameter_1 = \"phase_parameter_1\"\n",
    "\n",
    "        except ValueError:\n",
    "            params = planetoid.SSObject_in_filter(filt)\n",
    "            print(\"use SSObject parameters\")\n",
    "            phase_parameter_1 = ADLER_SSOBJECT[\"phase_parameter_1\"]\n",
    "\n",
    "        print(params)\n",
    "\n",
    "        if not hasattr(params.H, \"unit\"):\n",
    "            params.H *= u.mag\n",
    "\n",
    "        # Define the initial simple phase curve filter model with fixed G12\n",
    "        pc = PhaseCurve(\n",
    "            H=params.H,\n",
    "            phase_parameter_1=getattr(params, phase_parameter_1),\n",
    "            model_name=mod_name,\n",
    "        )\n",
    "\n",
    "        # do we fix phase parameter?\n",
    "        if len(_df_n) < N_pc_fit:\n",
    "            pc.model_function.G12.fixed = True\n",
    "        else:\n",
    "            pc.model_function.G12.fixed = False\n",
    "\n",
    "        # do a HG12_Pen16 fit to the past data\n",
    "        pc_fit = pc.FitModel(\n",
    "            np.array(_df_n[\"phaseAngle\"]) * u.deg,\n",
    "            np.array(_df_n[\"reduced_mag\"]) * u.mag,\n",
    "            np.array(_df_n[\"magErr\"]) * u.mag,\n",
    "        )\n",
    "        pc_fit = pc.InitModelSbpy(pc_fit)\n",
    "        print(filt, pc_fit.__dict__)\n",
    "\n",
    "        # define a dict of all values, including metadata\n",
    "        # TODO: include units?\n",
    "        # TODO: add a model fit timestamp parameter?\n",
    "        ad_params = pc_fit.__dict__\n",
    "        ad_params[\"phaseAngle_min\"] = np.amin(_df_n[\"phaseAngle\"])  # * u.deg\n",
    "        ad_params[\"phaseAngle_range\"] = np.ptp(_df_n[\"phaseAngle\"])  # * u.deg\n",
    "        ad_params[\"arc\"] = np.ptp(_df_n[\"midPointMjdTai\"])  # * u.d\n",
    "        ad_params[\"nobs\"] = len(_df_n)\n",
    "        ad_params[\"modelFitMjd\"] = np.amax(_df_n[\"midPointMjdTai\"])\n",
    "\n",
    "        # clean the dict of units\n",
    "        for x in ad_params:\n",
    "            if hasattr(ad_params[x], \"unit\"):\n",
    "                ad_params[x] = ad_params[x].value\n",
    "\n",
    "        # store values in AdlerData\n",
    "        adler_data.populate_phase_parameters(filt, **ad_params)\n",
    "\n",
    "        ad_params_list.append(ad_params)\n",
    "\n",
    "#         break\n",
    "\n",
    "#     break"
   ]
  },
  {
   "cell_type": "code",
   "execution_count": null,
   "id": "ed4d567b",
   "metadata": {},
   "outputs": [],
   "source": [
    "fig = plot_errorbar(planetoid, filt_list=[\"r\"])"
   ]
  },
  {
   "cell_type": "code",
   "execution_count": null,
   "id": "04139eac",
   "metadata": {},
   "outputs": [],
   "source": [
    "ad_params"
   ]
  },
  {
   "cell_type": "code",
   "execution_count": null,
   "id": "0910c4ab",
   "metadata": {},
   "outputs": [],
   "source": [
    "# x_plot = \"midPointMjdTai\"\n",
    "x_plot = \"modelFitMjd\"\n",
    "y_plot = \"H\"\n",
    "\n",
    "for y_plot in [\n",
    "    \"H\",\n",
    "    \"phase_parameter_1\",\n",
    "    #                \"phaseAngle_min\",\n",
    "    #               \"phaseAngle_range\",\n",
    "    #               \"arc\",\n",
    "    #               \"nobs\",\n",
    "]:\n",
    "    df_plot = pd.DataFrame(ad_params_list)\n",
    "\n",
    "    fig = plt.figure()\n",
    "    gs = gridspec.GridSpec(1, 1)\n",
    "    ax1 = plt.subplot(gs[0, 0])\n",
    "\n",
    "    #     ax1.scatter(df_plot[x_plot],df_plot[y_plot])\n",
    "    ax1.scatter(df_plot.index.values, df_plot[y_plot])\n",
    "\n",
    "    # ax1.set_xlabel(x_plot)\n",
    "    ax1.set_ylabel(y_plot)\n",
    "\n",
    "    plt.show()"
   ]
  },
  {
   "cell_type": "code",
   "execution_count": null,
   "id": "c79c682f",
   "metadata": {},
   "outputs": [],
   "source": [
    "_df_n"
   ]
  },
  {
   "cell_type": "code",
   "execution_count": null,
   "id": "f64970b7",
   "metadata": {},
   "outputs": [],
   "source": [
    "df_obs.columns"
   ]
  },
  {
   "cell_type": "code",
   "execution_count": null,
   "id": "d8a3ca51",
   "metadata": {},
   "outputs": [],
   "source": [
    "# calculate elongation angle\n",
    "R = df_obs[\"heliocentricDist\"]\n",
    "Delta = df_obs[\"topocentricDist\"]\n",
    "alpha = np.radians(df_obs[\"phaseAngle\"])\n",
    "\n",
    "R_E = np.sqrt((R * R) + (Delta * Delta) - (2.0 * R * Delta * np.cos(alpha)))\n",
    "df_obs[\"elong\"] = np.degrees(np.arccos(((R_E * R_E) + (Delta * Delta) - (R * R)) / (2.0 * R_E * Delta)))"
   ]
  },
  {
   "cell_type": "code",
   "execution_count": null,
   "id": "0d45807d",
   "metadata": {},
   "outputs": [],
   "source": [
    "x_plot = \"midPointMjdTai\"\n",
    "y_plot = \"elong\"\n",
    "df_plot = df_obs\n",
    "\n",
    "fig = plt.figure()\n",
    "gs = gridspec.GridSpec(1, 1)\n",
    "ax1 = plt.subplot(gs[0, 0])\n",
    "\n",
    "ax1.scatter(df_plot[x_plot], df_plot[y_plot])\n",
    "\n",
    "ax1.set_xlabel(x_plot)\n",
    "ax1.set_ylabel(y_plot)\n",
    "\n",
    "plt.show()"
   ]
  },
  {
   "cell_type": "code",
   "execution_count": null,
   "id": "314a2b2d",
   "metadata": {},
   "outputs": [],
   "source": []
  }
 ],
 "metadata": {
  "kernelspec": {
   "display_name": "adler-dev",
   "language": "python",
   "name": "adler-dev"
  },
  "language_info": {
   "codemirror_mode": {
    "name": "ipython",
    "version": 3
   },
   "file_extension": ".py",
   "mimetype": "text/x-python",
   "name": "python",
   "nbconvert_exporter": "python",
   "pygments_lexer": "ipython3",
   "version": "3.10.14"
  }
 },
 "nbformat": 4,
 "nbformat_minor": 5
}
