{
 "cells": [
  {
   "cell_type": "code",
   "execution_count": null,
   "id": "7fafdbd9",
   "metadata": {
    "execution": {
     "iopub.execute_input": "2024-10-22T13:49:22.264374Z",
     "iopub.status.busy": "2024-10-22T13:49:22.264159Z",
     "iopub.status.idle": "2024-10-22T13:49:24.365469Z",
     "shell.execute_reply": "2024-10-22T13:49:24.364557Z",
     "shell.execute_reply.started": "2024-10-22T13:49:22.264357Z"
    }
   },
   "outputs": [],
   "source": [
    "from adler.objectdata.AdlerPlanetoid import AdlerPlanetoid\n",
    "from adler.science.PhaseCurve import PhaseCurve\n",
    "from adler.objectdata.AdlerData import AdlerData\n",
    "from adler.utilities.plotting_utilities import plot_errorbar, plot_phasecurve\n",
    "import adler.utilities.science_utilities as sci_utils\n",
    "\n",
    "import numpy as np\n",
    "import pandas as pd\n",
    "import matplotlib.pyplot as plt\n",
    "import matplotlib.gridspec as gridspec\n",
    "import astropy.units as u"
   ]
  },
  {
   "cell_type": "code",
   "execution_count": null,
   "id": "b9b8d9be",
   "metadata": {
    "execution": {
     "iopub.execute_input": "2024-10-22T13:49:24.367159Z",
     "iopub.status.busy": "2024-10-22T13:49:24.366563Z",
     "iopub.status.idle": "2024-10-22T13:49:26.858571Z",
     "shell.execute_reply": "2024-10-22T13:49:26.857667Z",
     "shell.execute_reply.started": "2024-10-22T13:49:24.367135Z"
    }
   },
   "outputs": [],
   "source": [
    "ssoid = \"6098332225018\"  # good test object\n",
    "# ssoid = \"8268570668335894776\"  # NEO\n",
    "# ssoid = \"-4973461691235584486\" # NEO\n",
    "\n",
    "fname = \"/Users/jrobinson/lsst-adler/notebooks/gen_test_data/adler_demo_testing_database.db\"\n",
    "planetoid = AdlerPlanetoid.construct_from_SQL(ssoid, sql_filename=fname)\n",
    "# planetoid = AdlerPlanetoid.construct_from_RSP(ssoid)"
   ]
  },
  {
   "cell_type": "code",
   "execution_count": null,
   "id": "dfca7299",
   "metadata": {
    "execution": {
     "iopub.execute_input": "2024-10-22T13:49:26.861022Z",
     "iopub.status.busy": "2024-10-22T13:49:26.860753Z",
     "iopub.status.idle": "2024-10-22T13:49:26.910514Z",
     "shell.execute_reply": "2024-10-22T13:49:26.909442Z",
     "shell.execute_reply.started": "2024-10-22T13:49:26.861003Z"
    }
   },
   "outputs": [],
   "source": [
    "planetoid.__dict__"
   ]
  },
  {
   "cell_type": "code",
   "execution_count": null,
   "id": "477268a2-7e9d-4962-a81e-187ab61b7b87",
   "metadata": {
    "execution": {
     "iopub.execute_input": "2024-10-22T13:49:26.911998Z",
     "iopub.status.busy": "2024-10-22T13:49:26.911740Z",
     "iopub.status.idle": "2024-10-22T13:49:26.917243Z",
     "shell.execute_reply": "2024-10-22T13:49:26.916406Z",
     "shell.execute_reply.started": "2024-10-22T13:49:26.911979Z"
    }
   },
   "outputs": [],
   "source": [
    "planetoid.MPCORB"
   ]
  },
  {
   "cell_type": "code",
   "execution_count": null,
   "id": "334fd033",
   "metadata": {
    "execution": {
     "iopub.execute_input": "2024-10-22T13:49:26.918460Z",
     "iopub.status.busy": "2024-10-22T13:49:26.918225Z",
     "iopub.status.idle": "2024-10-22T13:49:26.965001Z",
     "shell.execute_reply": "2024-10-22T13:49:26.963946Z",
     "shell.execute_reply.started": "2024-10-22T13:49:26.918437Z"
    }
   },
   "outputs": [],
   "source": [
    "filters = planetoid.filter_list"
   ]
  },
  {
   "cell_type": "code",
   "execution_count": null,
   "id": "960ee095",
   "metadata": {
    "execution": {
     "iopub.execute_input": "2024-10-22T13:49:26.966552Z",
     "iopub.status.busy": "2024-10-22T13:49:26.966297Z",
     "iopub.status.idle": "2024-10-22T13:49:26.985388Z",
     "shell.execute_reply": "2024-10-22T13:49:26.984534Z",
     "shell.execute_reply.started": "2024-10-22T13:49:26.966534Z"
    }
   },
   "outputs": [],
   "source": [
    "# get all obs as dataframe\n",
    "df_obs = pd.DataFrame()\n",
    "for filt in filters:\n",
    "    obs = planetoid.observations_in_filter(filt)\n",
    "    _df_obs = pd.DataFrame(obs.__dict__)\n",
    "    df_obs = pd.concat([df_obs, _df_obs])\n",
    "    df_obs = df_obs.reset_index(drop=True)\n",
    "#     break"
   ]
  },
  {
   "cell_type": "code",
   "execution_count": null,
   "id": "6f188ab5",
   "metadata": {
    "execution": {
     "iopub.execute_input": "2024-10-22T13:49:26.986708Z",
     "iopub.status.busy": "2024-10-22T13:49:26.986460Z",
     "iopub.status.idle": "2024-10-22T13:49:27.015012Z",
     "shell.execute_reply": "2024-10-22T13:49:27.013967Z",
     "shell.execute_reply.started": "2024-10-22T13:49:26.986690Z"
    }
   },
   "outputs": [],
   "source": [
    "df_obs"
   ]
  },
  {
   "cell_type": "code",
   "execution_count": null,
   "id": "d8a3ca51",
   "metadata": {
    "execution": {
     "iopub.execute_input": "2024-10-22T13:49:27.016477Z",
     "iopub.status.busy": "2024-10-22T13:49:27.016231Z",
     "iopub.status.idle": "2024-10-22T13:49:27.025836Z",
     "shell.execute_reply": "2024-10-22T13:49:27.024894Z",
     "shell.execute_reply.started": "2024-10-22T13:49:27.016459Z"
    }
   },
   "outputs": [],
   "source": [
    "# calculate elongation angle\n",
    "R = df_obs[\"heliocentricDist\"]\n",
    "Delta = df_obs[\"topocentricDist\"]\n",
    "alpha = np.radians(df_obs[\"phaseAngle\"])\n",
    "\n",
    "R_E = np.sqrt((R * R) + (Delta * Delta) - (2.0 * R * Delta * np.cos(alpha)))\n",
    "df_obs[\"elong\"] = np.degrees(np.arccos(((R_E * R_E) + (Delta * Delta) - (R * R)) / (2.0 * R_E * Delta)))"
   ]
  },
  {
   "cell_type": "code",
   "execution_count": null,
   "id": "0d45807d",
   "metadata": {
    "execution": {
     "iopub.execute_input": "2024-10-22T13:49:27.048396Z",
     "iopub.status.busy": "2024-10-22T13:49:27.048063Z",
     "iopub.status.idle": "2024-10-22T13:49:27.317638Z",
     "shell.execute_reply": "2024-10-22T13:49:27.316589Z",
     "shell.execute_reply.started": "2024-10-22T13:49:27.048373Z"
    }
   },
   "outputs": [],
   "source": [
    "x_plot = \"midPointMjdTai\"\n",
    "y_plot = \"elong\"\n",
    "df_plot = df_obs\n",
    "\n",
    "fig = plt.figure()\n",
    "gs = gridspec.GridSpec(1, 1)\n",
    "ax1 = plt.subplot(gs[0, 0])\n",
    "\n",
    "ax1.scatter(df_plot[x_plot], df_plot[y_plot])\n",
    "\n",
    "ax1.set_xlabel(x_plot)\n",
    "ax1.set_ylabel(y_plot)\n",
    "\n",
    "plt.show()"
   ]
  },
  {
   "cell_type": "code",
   "execution_count": null,
   "id": "8895d306",
   "metadata": {},
   "outputs": [],
   "source": [
    "x_plot = \"midPointMjdTai\"\n",
    "y_plot = \"phaseAngle\"\n",
    "df_plot = df_obs\n",
    "\n",
    "fig = plt.figure()\n",
    "gs = gridspec.GridSpec(1, 1)\n",
    "ax1 = plt.subplot(gs[0, 0])\n",
    "\n",
    "ax1.scatter(df_plot[x_plot], df_plot[y_plot])\n",
    "\n",
    "ax1.set_xlabel(x_plot)\n",
    "ax1.set_ylabel(y_plot)\n",
    "\n",
    "plt.show()"
   ]
  },
  {
   "cell_type": "code",
   "execution_count": null,
   "id": "8a0f5291",
   "metadata": {
    "execution": {
     "iopub.execute_input": "2024-10-22T13:49:27.319596Z",
     "iopub.status.busy": "2024-10-22T13:49:27.319182Z",
     "iopub.status.idle": "2024-10-22T13:49:27.355353Z",
     "shell.execute_reply": "2024-10-22T13:49:27.354328Z",
     "shell.execute_reply.started": "2024-10-22T13:49:27.319562Z"
    }
   },
   "outputs": [],
   "source": [
    "tmin = np.amin(np.floor(df_obs[\"midPointMjdTai\"]))  # mjd\n",
    "tmax = np.amax(np.floor(df_obs[\"midPointMjdTai\"])) + 1  # mjd\n",
    "tmin, tmax"
   ]
  },
  {
   "cell_type": "code",
   "execution_count": null,
   "id": "0a293038",
   "metadata": {
    "execution": {
     "iopub.execute_input": "2024-10-22T13:49:27.357205Z",
     "iopub.status.busy": "2024-10-22T13:49:27.356817Z",
     "iopub.status.idle": "2024-10-22T13:49:27.669853Z",
     "shell.execute_reply": "2024-10-22T13:49:27.669093Z",
     "shell.execute_reply.started": "2024-10-22T13:49:27.357176Z"
    }
   },
   "outputs": [],
   "source": [
    "# cumulative data in filter\n",
    "x_plot = \"midPointMjdTai\"\n",
    "df_plot = df_obs.sort_values(x_plot)\n",
    "\n",
    "fig = plt.figure()\n",
    "gs = gridspec.GridSpec(1, 1)\n",
    "ax1 = plt.subplot(gs[0, 0])\n",
    "\n",
    "bins = np.arange(tmin, tmax + 1)\n",
    "\n",
    "values, base = np.histogram(df_plot[x_plot], bins=bins)\n",
    "cumulative = np.cumsum(values)\n",
    "ax1.plot(base[:-1] - base[0], cumulative)\n",
    "\n",
    "data_mask = np.diff(cumulative) > 0\n",
    "data_nights = base[1:-1][data_mask]\n",
    "N_data = cumulative[1:][data_mask]\n",
    "\n",
    "ax1.scatter(data_nights - data_nights[0], N_data)\n",
    "\n",
    "ax1.set_xlabel(x_plot)\n",
    "ax1.set_ylabel(\"number\")\n",
    "\n",
    "plt.show()"
   ]
  },
  {
   "cell_type": "code",
   "execution_count": null,
   "id": "09c7d0cb",
   "metadata": {
    "execution": {
     "iopub.execute_input": "2024-10-22T13:49:27.672870Z",
     "iopub.status.busy": "2024-10-22T13:49:27.672622Z",
     "iopub.status.idle": "2024-10-22T13:49:27.679269Z",
     "shell.execute_reply": "2024-10-22T13:49:27.678468Z",
     "shell.execute_reply.started": "2024-10-22T13:49:27.672852Z"
    }
   },
   "outputs": [],
   "source": [
    "data_nights"
   ]
  },
  {
   "cell_type": "code",
   "execution_count": null,
   "id": "d57a9e80",
   "metadata": {
    "execution": {
     "iopub.execute_input": "2024-10-22T13:49:27.680435Z",
     "iopub.status.busy": "2024-10-22T13:49:27.680218Z",
     "iopub.status.idle": "2024-10-22T13:49:27.695007Z",
     "shell.execute_reply": "2024-10-22T13:49:27.694150Z",
     "shell.execute_reply.started": "2024-10-22T13:49:27.680419Z"
    }
   },
   "outputs": [],
   "source": [
    "N_data"
   ]
  },
  {
   "cell_type": "code",
   "execution_count": null,
   "id": "504569cb",
   "metadata": {
    "execution": {
     "iopub.execute_input": "2024-10-22T13:49:27.696425Z",
     "iopub.status.busy": "2024-10-22T13:49:27.696205Z",
     "iopub.status.idle": "2024-10-22T13:49:27.710841Z",
     "shell.execute_reply": "2024-10-22T13:49:27.710150Z",
     "shell.execute_reply.started": "2024-10-22T13:49:27.696408Z"
    }
   },
   "outputs": [],
   "source": [
    "# create the empty AdlerData object\n",
    "adler_data = AdlerData(ssoid, planetoid.filter_list)\n",
    "adler_data"
   ]
  },
  {
   "cell_type": "code",
   "execution_count": null,
   "id": "87a6de72",
   "metadata": {
    "execution": {
     "iopub.execute_input": "2024-10-22T13:49:27.712024Z",
     "iopub.status.busy": "2024-10-22T13:49:27.711804Z",
     "iopub.status.idle": "2024-10-22T13:49:27.750033Z",
     "shell.execute_reply": "2024-10-22T13:49:27.749252Z",
     "shell.execute_reply.started": "2024-10-22T13:49:27.712006Z"
    }
   },
   "outputs": [],
   "source": [
    "planetoid.SSObject"
   ]
  },
  {
   "cell_type": "code",
   "execution_count": null,
   "id": "8de34419",
   "metadata": {
    "execution": {
     "iopub.execute_input": "2024-10-22T13:49:27.751267Z",
     "iopub.status.busy": "2024-10-22T13:49:27.751024Z",
     "iopub.status.idle": "2024-10-22T13:49:27.756256Z",
     "shell.execute_reply": "2024-10-22T13:49:27.755486Z",
     "shell.execute_reply.started": "2024-10-22T13:49:27.751248Z"
    }
   },
   "outputs": [],
   "source": [
    "planetoid.SSObject_in_filter(\"r\")"
   ]
  },
  {
   "cell_type": "code",
   "execution_count": null,
   "id": "cd3e6491",
   "metadata": {
    "execution": {
     "iopub.execute_input": "2024-10-22T13:49:27.757763Z",
     "iopub.status.busy": "2024-10-22T13:49:27.757542Z",
     "iopub.status.idle": "2024-10-22T13:49:27.770935Z",
     "shell.execute_reply": "2024-10-22T13:49:27.770130Z",
     "shell.execute_reply.started": "2024-10-22T13:49:27.757745Z"
    }
   },
   "outputs": [],
   "source": [
    "# TODO: we need a translation between planetoid.SSObject attributes and AdlerData attributes\n",
    "ADLER_SSOBJECT = {\"phase_parameter_1\": \"G12\"}\n",
    "SSOBJECT_ADLER = {v: k for k, v in ADLER_SSOBJECT.items()}"
   ]
  },
  {
   "cell_type": "code",
   "execution_count": null,
   "id": "71776f60",
   "metadata": {
    "execution": {
     "iopub.execute_input": "2024-10-22T13:49:27.772332Z",
     "iopub.status.busy": "2024-10-22T13:49:27.772091Z",
     "iopub.status.idle": "2024-10-22T13:49:27.786653Z",
     "shell.execute_reply": "2024-10-22T13:49:27.785661Z",
     "shell.execute_reply.started": "2024-10-22T13:49:27.772315Z"
    }
   },
   "outputs": [],
   "source": [
    "ADLER_SSOBJECT, SSOBJECT_ADLER"
   ]
  },
  {
   "cell_type": "code",
   "execution_count": null,
   "id": "c74ef722",
   "metadata": {
    "execution": {
     "iopub.execute_input": "2024-10-22T13:49:27.788411Z",
     "iopub.status.busy": "2024-10-22T13:49:27.788064Z",
     "iopub.status.idle": "2024-10-22T13:49:27.799860Z",
     "shell.execute_reply": "2024-10-22T13:49:27.799133Z",
     "shell.execute_reply.started": "2024-10-22T13:49:27.788382Z"
    }
   },
   "outputs": [],
   "source": [
    "sso_r = planetoid.SSObject_in_filter(\"r\")\n",
    "sso_r.H, sso_r.G12"
   ]
  },
  {
   "cell_type": "code",
   "execution_count": null,
   "id": "0d979da6",
   "metadata": {
    "execution": {
     "iopub.execute_input": "2024-10-22T13:49:27.801232Z",
     "iopub.status.busy": "2024-10-22T13:49:27.801000Z",
     "iopub.status.idle": "2024-10-22T13:49:36.318337Z",
     "shell.execute_reply": "2024-10-22T13:49:36.317155Z",
     "shell.execute_reply.started": "2024-10-22T13:49:27.801215Z"
    }
   },
   "outputs": [],
   "source": [
    "N_pc_fit = 25  # minimum number of observations to fit phase curve parameter (otherwise just fit H)\n",
    "mod_name = \"HG12_Pen16\"  # model name\n",
    "\n",
    "# create the empty AdlerData object\n",
    "adler_data = AdlerData(ssoid, planetoid.filter_list)\n",
    "\n",
    "ad_params_list = []\n",
    "\n",
    "for n in data_nights:\n",
    "    print(n)\n",
    "    df_n = df_obs[df_obs[\"midPointMjdTai\"] < n]\n",
    "    print(len(df_n), np.unique(df_n[\"filter_name\"]))\n",
    "    print(df_n.value_counts(\"filter_name\"))\n",
    "    #     break\n",
    "\n",
    "    for filt in np.unique(df_n[\"filter_name\"]):\n",
    "        _df_n = df_n[df_n[\"filter_name\"] == filt]\n",
    "        print(filt, len(_df_n))\n",
    "\n",
    "        # Try get parameters from AdlerData otherwise, use the SSObject parameters from alert\n",
    "        try:\n",
    "            params = adler_data.get_phase_parameters_in_filter(filt, model_name=mod_name)\n",
    "            print(\"use AdlerData parameters\")\n",
    "            phase_parameter_1 = \"phase_parameter_1\"\n",
    "\n",
    "        except ValueError:\n",
    "            params = planetoid.SSObject_in_filter(filt)\n",
    "            print(\"use SSObject parameters\")\n",
    "            phase_parameter_1 = ADLER_SSOBJECT[\"phase_parameter_1\"]\n",
    "\n",
    "        print(params)\n",
    "\n",
    "        if not hasattr(params.H, \"unit\"):\n",
    "            params.H *= u.mag\n",
    "\n",
    "        # Define the initial simple phase curve filter model with fixed G12\n",
    "        pc = PhaseCurve(\n",
    "            H=params.H,\n",
    "            phase_parameter_1=getattr(params, phase_parameter_1),\n",
    "            model_name=mod_name,\n",
    "        )\n",
    "\n",
    "        # do we fix phase parameter?\n",
    "        if len(_df_n) < N_pc_fit:\n",
    "            pc.model_function.G12.fixed = True\n",
    "        else:\n",
    "            pc.model_function.G12.fixed = False\n",
    "\n",
    "        # do a HG12_Pen16 fit to the past data\n",
    "        pc_fit = pc.FitModel(\n",
    "            np.array(_df_n[\"phaseAngle\"]) * u.deg,\n",
    "            np.array(_df_n[\"reduced_mag\"]) * u.mag,\n",
    "            np.array(_df_n[\"magErr\"]) * u.mag,\n",
    "        )\n",
    "        pc_fit = pc.InitModelSbpy(pc_fit)\n",
    "        print(filt, pc_fit.__dict__)\n",
    "\n",
    "        # define a dict of all values, including metadata\n",
    "        # TODO: include units?\n",
    "        ad_params = pc_fit.__dict__\n",
    "        ad_params[\"phaseAngle_min\"] = np.amin(_df_n[\"phaseAngle\"])  # * u.deg\n",
    "        ad_params[\"phaseAngle_range\"] = np.ptp(_df_n[\"phaseAngle\"])  # * u.deg\n",
    "        ad_params[\"arc\"] = np.ptp(_df_n[\"midPointMjdTai\"])  # * u.d\n",
    "        ad_params[\"nobs\"] = len(_df_n)\n",
    "        ad_params[\"modelFitMjd\"] = np.amax(_df_n[\"midPointMjdTai\"])\n",
    "\n",
    "        # clean the dict of units\n",
    "        for x in ad_params:\n",
    "            if hasattr(ad_params[x], \"unit\"):\n",
    "                ad_params[x] = ad_params[x].value\n",
    "\n",
    "        # store values in AdlerData\n",
    "        adler_data.populate_phase_parameters(filt, **ad_params)\n",
    "\n",
    "        ad_params[\"filter_name\"] = filt\n",
    "        ad_params_list.append(ad_params)\n",
    "\n",
    "#         break\n",
    "\n",
    "#     break"
   ]
  },
  {
   "cell_type": "code",
   "execution_count": null,
   "id": "e1bdad8b-e2e2-4edf-82c4-7d653921ba57",
   "metadata": {
    "execution": {
     "iopub.execute_input": "2024-10-22T13:49:36.319502Z",
     "iopub.status.busy": "2024-10-22T13:49:36.319239Z",
     "iopub.status.idle": "2024-10-22T13:49:36.354366Z",
     "shell.execute_reply": "2024-10-22T13:49:36.353090Z",
     "shell.execute_reply.started": "2024-10-22T13:49:36.319475Z"
    }
   },
   "outputs": [],
   "source": [
    "ad_params"
   ]
  },
  {
   "cell_type": "code",
   "execution_count": null,
   "id": "ed4d567b",
   "metadata": {
    "execution": {
     "iopub.execute_input": "2024-10-22T13:49:36.356222Z",
     "iopub.status.busy": "2024-10-22T13:49:36.355886Z",
     "iopub.status.idle": "2024-10-22T13:49:36.622298Z",
     "shell.execute_reply": "2024-10-22T13:49:36.621538Z",
     "shell.execute_reply.started": "2024-10-22T13:49:36.356193Z"
    }
   },
   "outputs": [],
   "source": [
    "fig = plot_errorbar(planetoid, filt_list=[\"r\"])"
   ]
  },
  {
   "cell_type": "code",
   "execution_count": null,
   "id": "04139eac",
   "metadata": {
    "execution": {
     "iopub.execute_input": "2024-10-22T13:49:36.623648Z",
     "iopub.status.busy": "2024-10-22T13:49:36.623396Z",
     "iopub.status.idle": "2024-10-22T13:49:36.629099Z",
     "shell.execute_reply": "2024-10-22T13:49:36.628368Z",
     "shell.execute_reply.started": "2024-10-22T13:49:36.623628Z"
    }
   },
   "outputs": [],
   "source": [
    "ad_params"
   ]
  },
  {
   "cell_type": "code",
   "execution_count": null,
   "id": "0910c4ab",
   "metadata": {
    "execution": {
     "iopub.execute_input": "2024-10-22T13:49:36.630700Z",
     "iopub.status.busy": "2024-10-22T13:49:36.630138Z",
     "iopub.status.idle": "2024-10-22T13:49:37.427375Z",
     "shell.execute_reply": "2024-10-22T13:49:37.426547Z",
     "shell.execute_reply.started": "2024-10-22T13:49:36.630677Z"
    }
   },
   "outputs": [],
   "source": [
    "x_plot = \"modelFitMjd\"\n",
    "y_plot = \"H\"\n",
    "\n",
    "for y_plot in [\n",
    "    \"H\",\n",
    "    \"phase_parameter_1\",\n",
    "    #                \"phaseAngle_min\",\n",
    "    #               \"phaseAngle_range\",\n",
    "    #               \"arc\",\n",
    "    #               \"nobs\",\n",
    "]:\n",
    "    df_plot = pd.DataFrame(ad_params_list)\n",
    "\n",
    "    fig = plt.figure()\n",
    "    gs = gridspec.GridSpec(1, 1)\n",
    "    ax1 = plt.subplot(gs[0, 0])\n",
    "\n",
    "    for filt in np.unique(df_plot[\"filter_name\"]):\n",
    "        _df_plot = df_plot[df_plot[\"filter_name\"] == filt]\n",
    "        ax1.scatter(_df_plot[x_plot], _df_plot[y_plot], label=filt)\n",
    "        ax1.plot(_df_plot[x_plot], _df_plot[y_plot])\n",
    "        # ax1.scatter(_df_plot.index.values, _df_plot[y_plot])\n",
    "\n",
    "    # ax1.set_xlabel(x_plot)\n",
    "    ax1.set_ylabel(y_plot)\n",
    "\n",
    "    ax1.legend()\n",
    "\n",
    "    plt.show()"
   ]
  },
  {
   "cell_type": "code",
   "execution_count": null,
   "id": "314a2b2d",
   "metadata": {},
   "outputs": [],
   "source": [
    "# adler_data contains the most recent phase curve fit\n",
    "adler_data.__dict__"
   ]
  },
  {
   "cell_type": "code",
   "execution_count": null,
   "id": "c7ae9be7",
   "metadata": {},
   "outputs": [],
   "source": [
    "df_ad = pd.DataFrame(\n",
    "    [adler_data.get_phase_parameters_in_filter(filt, \"HG12_Pen16\").__dict__ for filt in \"griz\"]\n",
    ")\n",
    "df_ad"
   ]
  },
  {
   "cell_type": "code",
   "execution_count": null,
   "id": "2a91893c",
   "metadata": {},
   "outputs": [],
   "source": [
    "# use the adler plotting functions to display the data and phase curves\n",
    "\n",
    "fig = plot_errorbar(\n",
    "    planetoid,\n",
    "    filt_list=df_ad[\"filter_name\"],\n",
    "    x_plot=\"phaseAngle\",\n",
    "    y_plot=\"reduced_mag\",\n",
    "    label_list=df_ad[\"filter_name\"],\n",
    ")\n",
    "\n",
    "fig = plot_phasecurve(\n",
    "    adler_data,\n",
    "    filt_list=df_ad[\"filter_name\"],\n",
    "    x_plot=\"phaseAngle\",\n",
    "    y_plot=\"reduced_mag\",\n",
    "    col_list=[\"C{}\".format(i) for i in np.arange(len(adler_data.filter_list))],\n",
    "    fig=fig,\n",
    ")\n",
    "plt.gca().legend()\n",
    "plt.show()"
   ]
  },
  {
   "cell_type": "code",
   "execution_count": null,
   "id": "f8298b17",
   "metadata": {},
   "outputs": [],
   "source": [
    "# use the final models as the reference phasecurves\n",
    "# at least until we get the \"day-time\" refitting working"
   ]
  },
  {
   "cell_type": "code",
   "execution_count": null,
   "id": "2490aff9",
   "metadata": {},
   "outputs": [],
   "source": [
    "# define columns to store the adler values for each observation\n",
    "df_obs[[\"model_res\", \"outlier\"]] = [np.nan, np.nan]\n",
    "df_obs"
   ]
  },
  {
   "cell_type": "code",
   "execution_count": null,
   "id": "37c08aec",
   "metadata": {},
   "outputs": [],
   "source": [
    "# calculate the residuals in each filter\n",
    "for filt in adler_data.filter_list:\n",
    "    ad = adler_data.get_phase_parameters_in_filter(filt, mod_name)\n",
    "    pc = PhaseCurve().InitModelDict(ad.__dict__)\n",
    "    print(pc.__dict__)\n",
    "\n",
    "    filt_mask = df_obs[\"filter_name\"] == filt\n",
    "    _df_obs = df_obs[filt_mask]\n",
    "    print(len(_df_obs))\n",
    "\n",
    "    df_obs.loc[filt_mask, \"model_res\"] = df_obs[filt_mask][\"reduced_mag\"] - pc.ReducedMag(\n",
    "        np.radians(df_obs[filt_mask][\"phaseAngle\"])\n",
    "    )"
   ]
  },
  {
   "cell_type": "code",
   "execution_count": null,
   "id": "6fa07abf",
   "metadata": {},
   "outputs": [],
   "source": [
    "df_obs"
   ]
  },
  {
   "cell_type": "code",
   "execution_count": null,
   "id": "387654ab",
   "metadata": {},
   "outputs": [],
   "source": [
    "# plot the residuals ine ach filter\n",
    "\n",
    "x_plot = \"midPointMjdTai\"\n",
    "y_plot = \"model_res\"\n",
    "yerr_plot = \"magErr\"\n",
    "df_plot = df_obs\n",
    "\n",
    "fig = plt.figure()\n",
    "gs = gridspec.GridSpec(1, 1)\n",
    "ax1 = plt.subplot(gs[0, 0])\n",
    "\n",
    "\n",
    "for filt in adler_data.filter_list:\n",
    "    mask = df_plot[\"filter_name\"] == filt\n",
    "    _df_plot = df_plot[mask]\n",
    "    ax1.errorbar(_df_plot[x_plot], _df_plot[y_plot], _df_plot[yerr_plot], fmt=\"o\", label=filt)\n",
    "\n",
    "ax1.set_xlabel(x_plot)\n",
    "ax1.set_ylabel(y_plot)\n",
    "ax1.legend()\n",
    "\n",
    "plt.show()"
   ]
  },
  {
   "cell_type": "code",
   "execution_count": null,
   "id": "ed643d6a",
   "metadata": {},
   "outputs": [],
   "source": [
    "# TODO: use the residuals to determine the outliers"
   ]
  }
 ],
 "metadata": {
  "kernelspec": {
   "display_name": "adler-dev",
   "language": "python",
   "name": "adler-dev"
  },
  "language_info": {
   "codemirror_mode": {
    "name": "ipython",
    "version": 3
   },
   "file_extension": ".py",
   "mimetype": "text/x-python",
   "name": "python",
   "nbconvert_exporter": "python",
   "pygments_lexer": "ipython3",
   "version": "3.10.14"
  }
 },
 "nbformat": 4,
 "nbformat_minor": 5
}
